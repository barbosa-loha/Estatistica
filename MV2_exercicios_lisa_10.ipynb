{
  "nbformat": 4,
  "nbformat_minor": 0,
  "metadata": {
    "colab": {
      "provenance": [],
      "authorship_tag": "ABX9TyPnjyzH/JGRobq3i36Y4J27",
      "include_colab_link": true
    },
    "kernelspec": {
      "name": "ir",
      "display_name": "R"
    },
    "language_info": {
      "name": "R"
    }
  },
  "cells": [
    {
      "cell_type": "markdown",
      "metadata": {
        "id": "view-in-github",
        "colab_type": "text"
      },
      "source": [
        "<a href=\"https://colab.research.google.com/github/barbosa-loha/Estatistica/blob/main/MV2_exercicios_lisa_10.ipynb\" target=\"_parent\"><img src=\"https://colab.research.google.com/assets/colab-badge.svg\" alt=\"Open In Colab\"/></a>"
      ]
    },
    {
      "cell_type": "code",
      "source": [
        "install.packages(\"reshape2\")"
      ],
      "metadata": {
        "id": "Z55_ZFc44IUz"
      },
      "execution_count": null,
      "outputs": []
    },
    {
      "cell_type": "code",
      "source": [
        "install.packages(\"corrplot\")"
      ],
      "metadata": {
        "id": "Y2oV5LzC_FI9"
      },
      "execution_count": null,
      "outputs": []
    },
    {
      "cell_type": "code",
      "source": [
        "library(corrplot)"
      ],
      "metadata": {
        "id": "iXnhGy9d_G9l"
      },
      "execution_count": null,
      "outputs": []
    },
    {
      "cell_type": "markdown",
      "source": [
        "Componentes Principais."
      ],
      "metadata": {
        "id": "vd-8USLTXdjr"
      }
    },
    {
      "cell_type": "markdown",
      "source": [
        "# Lista 10"
      ],
      "metadata": {
        "id": "unHDbD4UXPPE"
      }
    },
    {
      "cell_type": "markdown",
      "source": [
        "## 1 - Responda as questões abaixo:"
      ],
      "metadata": {
        "id": "RK6uFR-uXueD"
      }
    },
    {
      "cell_type": "markdown",
      "source": [
        "## a) A transformação por componentes principais baseia-se no cálculo de autovalores e autovetores. O que representam os autovalores e os autovetores? Qual a relação dos autovalores e as variâncias originais das variáveis?"
      ],
      "metadata": {
        "id": "pFo6V921XyCz"
      }
    },
    {
      "cell_type": "markdown",
      "source": [
        "Ambos são vetores na analise de componente principal. Na verdade esses autovalores são os elementos nas diagonais da matriz diagonal na decomposição espectral, que é essa ligação da matriz aos vetores da matriz de covariância ou de correlação. Além disso a matriz dos componentes principais é o produto da matriz de autovetores com a matriz de variáveis. Os autovalores são obtidos a partir da matriz de covariância ou da matriz de correlação dos dados originais."
      ],
      "metadata": {
        "id": "oPyDH_oUX0HL"
      }
    },
    {
      "cell_type": "markdown",
      "source": [
        "## b) Em muitos casos, as componentes principais são obtidas a partir da matriz de correlação. Em que casos isso é recomendado?\n"
      ],
      "metadata": {
        "id": "UXyvI_DHiq0h"
      }
    },
    {
      "cell_type": "markdown",
      "source": [
        "Quando existem variáveis que possuem variância muito alta em relação as outras, que pode ser devido ao fato de que possa ocorrer pela diferença nas escalas e unidades de medida, deve-se utilizar a matriz de correlação para extrair essas componentes para que as variáveis de maior escala numérica não mascarem a importância dessa componente para ela mesma."
      ],
      "metadata": {
        "id": "NmosfXuDjEGL"
      }
    },
    {
      "cell_type": "markdown",
      "source": [
        "## c) Por que se diz que a informação é menor nas últimas componentes principais? Nesse caso, sempre podemos descartar estas últimas componentes por conterem apenas ruídos?"
      ],
      "metadata": {
        "id": "WFBZ9TyTkl40"
      }
    },
    {
      "cell_type": "markdown",
      "source": [
        "Muitas vezes, a maior parte da variância está nas primeiras componentes principais, sendo que de costume são nas últimas componentes principais que contêm variação aleatória que acaba sendo não muito informativa ou ruído, justamente por não explicar a maior parte da variação."
      ],
      "metadata": {
        "id": "g5DVYo5ll7R2"
      }
    },
    {
      "cell_type": "markdown",
      "source": [
        "# 2 - A partir dos dados abaixo, calcule a matriz de variância/covariância e a matriz de correlação. Obtenha os autovalores e autovetores considerando apenas a matriz de variância/covariância. Responda:\n"
      ],
      "metadata": {
        "id": "2hZBMdgcxJjS"
      }
    },
    {
      "cell_type": "code",
      "source": [
        "X1=c(34.78,16.56,82.34,30.47,4.48,16.49,69.25,69.68,70.6,42.82,65.49,16.47,54.4,98.68,58.58)\n",
        "X2=c(-0.94,-0.46,-1.82,-0.83,-0.43,-0.72,-1.7,-1.5,-1.69,-1.08,-1.53,-0.63,-1.25,-2.22,-1.38)\n",
        "X3=c(41.77,17.54,77.05,33.96,29.82,62.61,66.08,56.42,56,71.08,78.45,34.79,33.34,90.11,69.72)\n",
        "X4=c(89.34,58.15,118.7,80.42,71.39,105.82,108.69,104.96,105.97,112.19,120.63,79.42,75.61,137.04,117.56)\n",
        "X5=c(-63.17,-47.84,-75.06,-38.09,-33.48,-51.25,-67.18,-58.34,-72.49,-51.73,-68.31,-39.05,-41.6,-75.66,-56.78)\n",
        "\n"
      ],
      "metadata": {
        "id": "SWWVaJR1xeLi"
      },
      "execution_count": 5,
      "outputs": []
    },
    {
      "cell_type": "code",
      "source": [
        "dados <- data.frame(X1,X2,X3,X4,X5)"
      ],
      "metadata": {
        "id": "AGZevHNtzu5z"
      },
      "execution_count": 6,
      "outputs": []
    },
    {
      "cell_type": "code",
      "source": [
        "dados"
      ],
      "metadata": {
        "colab": {
          "base_uri": "https://localhost:8080/",
          "height": 568
        },
        "id": "TmePlmr11NT7",
        "outputId": "53b1d4fa-ca04-4b14-e668-ed0762549d6e"
      },
      "execution_count": 7,
      "outputs": [
        {
          "output_type": "display_data",
          "data": {
            "text/html": [
              "<table class=\"dataframe\">\n",
              "<caption>A data.frame: 15 × 5</caption>\n",
              "<thead>\n",
              "\t<tr><th scope=col>X1</th><th scope=col>X2</th><th scope=col>X3</th><th scope=col>X4</th><th scope=col>X5</th></tr>\n",
              "\t<tr><th scope=col>&lt;dbl&gt;</th><th scope=col>&lt;dbl&gt;</th><th scope=col>&lt;dbl&gt;</th><th scope=col>&lt;dbl&gt;</th><th scope=col>&lt;dbl&gt;</th></tr>\n",
              "</thead>\n",
              "<tbody>\n",
              "\t<tr><td>34.78</td><td>-0.94</td><td>41.77</td><td> 89.34</td><td>-63.17</td></tr>\n",
              "\t<tr><td>16.56</td><td>-0.46</td><td>17.54</td><td> 58.15</td><td>-47.84</td></tr>\n",
              "\t<tr><td>82.34</td><td>-1.82</td><td>77.05</td><td>118.70</td><td>-75.06</td></tr>\n",
              "\t<tr><td>30.47</td><td>-0.83</td><td>33.96</td><td> 80.42</td><td>-38.09</td></tr>\n",
              "\t<tr><td> 4.48</td><td>-0.43</td><td>29.82</td><td> 71.39</td><td>-33.48</td></tr>\n",
              "\t<tr><td>16.49</td><td>-0.72</td><td>62.61</td><td>105.82</td><td>-51.25</td></tr>\n",
              "\t<tr><td>69.25</td><td>-1.70</td><td>66.08</td><td>108.69</td><td>-67.18</td></tr>\n",
              "\t<tr><td>69.68</td><td>-1.50</td><td>56.42</td><td>104.96</td><td>-58.34</td></tr>\n",
              "\t<tr><td>70.60</td><td>-1.69</td><td>56.00</td><td>105.97</td><td>-72.49</td></tr>\n",
              "\t<tr><td>42.82</td><td>-1.08</td><td>71.08</td><td>112.19</td><td>-51.73</td></tr>\n",
              "\t<tr><td>65.49</td><td>-1.53</td><td>78.45</td><td>120.63</td><td>-68.31</td></tr>\n",
              "\t<tr><td>16.47</td><td>-0.63</td><td>34.79</td><td> 79.42</td><td>-39.05</td></tr>\n",
              "\t<tr><td>54.40</td><td>-1.25</td><td>33.34</td><td> 75.61</td><td>-41.60</td></tr>\n",
              "\t<tr><td>98.68</td><td>-2.22</td><td>90.11</td><td>137.04</td><td>-75.66</td></tr>\n",
              "\t<tr><td>58.58</td><td>-1.38</td><td>69.72</td><td>117.56</td><td>-56.78</td></tr>\n",
              "</tbody>\n",
              "</table>\n"
            ],
            "text/markdown": "\nA data.frame: 15 × 5\n\n| X1 &lt;dbl&gt; | X2 &lt;dbl&gt; | X3 &lt;dbl&gt; | X4 &lt;dbl&gt; | X5 &lt;dbl&gt; |\n|---|---|---|---|---|\n| 34.78 | -0.94 | 41.77 |  89.34 | -63.17 |\n| 16.56 | -0.46 | 17.54 |  58.15 | -47.84 |\n| 82.34 | -1.82 | 77.05 | 118.70 | -75.06 |\n| 30.47 | -0.83 | 33.96 |  80.42 | -38.09 |\n|  4.48 | -0.43 | 29.82 |  71.39 | -33.48 |\n| 16.49 | -0.72 | 62.61 | 105.82 | -51.25 |\n| 69.25 | -1.70 | 66.08 | 108.69 | -67.18 |\n| 69.68 | -1.50 | 56.42 | 104.96 | -58.34 |\n| 70.60 | -1.69 | 56.00 | 105.97 | -72.49 |\n| 42.82 | -1.08 | 71.08 | 112.19 | -51.73 |\n| 65.49 | -1.53 | 78.45 | 120.63 | -68.31 |\n| 16.47 | -0.63 | 34.79 |  79.42 | -39.05 |\n| 54.40 | -1.25 | 33.34 |  75.61 | -41.60 |\n| 98.68 | -2.22 | 90.11 | 137.04 | -75.66 |\n| 58.58 | -1.38 | 69.72 | 117.56 | -56.78 |\n\n",
            "text/latex": "A data.frame: 15 × 5\n\\begin{tabular}{lllll}\n X1 & X2 & X3 & X4 & X5\\\\\n <dbl> & <dbl> & <dbl> & <dbl> & <dbl>\\\\\n\\hline\n\t 34.78 & -0.94 & 41.77 &  89.34 & -63.17\\\\\n\t 16.56 & -0.46 & 17.54 &  58.15 & -47.84\\\\\n\t 82.34 & -1.82 & 77.05 & 118.70 & -75.06\\\\\n\t 30.47 & -0.83 & 33.96 &  80.42 & -38.09\\\\\n\t  4.48 & -0.43 & 29.82 &  71.39 & -33.48\\\\\n\t 16.49 & -0.72 & 62.61 & 105.82 & -51.25\\\\\n\t 69.25 & -1.70 & 66.08 & 108.69 & -67.18\\\\\n\t 69.68 & -1.50 & 56.42 & 104.96 & -58.34\\\\\n\t 70.60 & -1.69 & 56.00 & 105.97 & -72.49\\\\\n\t 42.82 & -1.08 & 71.08 & 112.19 & -51.73\\\\\n\t 65.49 & -1.53 & 78.45 & 120.63 & -68.31\\\\\n\t 16.47 & -0.63 & 34.79 &  79.42 & -39.05\\\\\n\t 54.40 & -1.25 & 33.34 &  75.61 & -41.60\\\\\n\t 98.68 & -2.22 & 90.11 & 137.04 & -75.66\\\\\n\t 58.58 & -1.38 & 69.72 & 117.56 & -56.78\\\\\n\\end{tabular}\n",
            "text/plain": [
              "   X1    X2    X3    X4     X5    \n",
              "1  34.78 -0.94 41.77  89.34 -63.17\n",
              "2  16.56 -0.46 17.54  58.15 -47.84\n",
              "3  82.34 -1.82 77.05 118.70 -75.06\n",
              "4  30.47 -0.83 33.96  80.42 -38.09\n",
              "5   4.48 -0.43 29.82  71.39 -33.48\n",
              "6  16.49 -0.72 62.61 105.82 -51.25\n",
              "7  69.25 -1.70 66.08 108.69 -67.18\n",
              "8  69.68 -1.50 56.42 104.96 -58.34\n",
              "9  70.60 -1.69 56.00 105.97 -72.49\n",
              "10 42.82 -1.08 71.08 112.19 -51.73\n",
              "11 65.49 -1.53 78.45 120.63 -68.31\n",
              "12 16.47 -0.63 34.79  79.42 -39.05\n",
              "13 54.40 -1.25 33.34  75.61 -41.60\n",
              "14 98.68 -2.22 90.11 137.04 -75.66\n",
              "15 58.58 -1.38 69.72 117.56 -56.78"
            ]
          },
          "metadata": {}
        }
      ]
    },
    {
      "cell_type": "markdown",
      "source": [
        "## a) Qual a variável que apresenta a maior variância? E a menor?\n"
      ],
      "metadata": {
        "id": "DHEGdZzFxLy6"
      }
    },
    {
      "cell_type": "code",
      "source": [
        "variancias <- sapply(dados, var)"
      ],
      "metadata": {
        "id": "cyCnNoWF7wRp"
      },
      "execution_count": 8,
      "outputs": []
    },
    {
      "cell_type": "code",
      "source": [
        "print(variancias)"
      ],
      "metadata": {
        "colab": {
          "base_uri": "https://localhost:8080/"
        },
        "id": "DIBrUPgn8wXz",
        "outputId": "dc2e6fbc-8721-44ff-a569-1810d2347c0e"
      },
      "execution_count": 9,
      "outputs": [
        {
          "output_type": "stream",
          "name": "stdout",
          "text": [
            "         X1          X2          X3          X4          X5 \n",
            "786.3590638   0.2900886 461.2673210 488.9951067 198.9787600 \n"
          ]
        }
      ]
    },
    {
      "cell_type": "markdown",
      "source": [
        "- Maior variância é **X1**\n",
        "- Menor variância **X2**."
      ],
      "metadata": {
        "id": "bjnARLjR96q8"
      }
    },
    {
      "cell_type": "markdown",
      "source": [
        "## b) Qual o par de variáveis apresenta a maior correlação (em módulo)? E a menor?\n"
      ],
      "metadata": {
        "id": "iHAMVmCexOzi"
      }
    },
    {
      "cell_type": "code",
      "source": [
        "m = cor(dados)"
      ],
      "metadata": {
        "id": "M_MRlysM_bml"
      },
      "execution_count": 10,
      "outputs": []
    },
    {
      "cell_type": "code",
      "source": [
        "corrplot(m, method = 'number')"
      ],
      "metadata": {
        "colab": {
          "base_uri": "https://localhost:8080/",
          "height": 437
        },
        "id": "UL8NMzNt-IHE",
        "outputId": "2b3c0882-6fce-4e32-bccf-dfbea3e66f0e"
      },
      "execution_count": 11,
      "outputs": [
        {
          "output_type": "display_data",
          "data": {
            "text/plain": [
              "Plot with title “”"
            ],
            "image/png": "[encoded data removed]"
          },
          "metadata": {
            "image/png": {
              "width": 420,
              "height": 420
            }
          }
        }
      ]
    },
    {
      "cell_type": "markdown",
      "source": [
        "- maior: **X1 e X2**, **X3 e X4**.\n",
        "- menor: **X1 e X3**"
      ],
      "metadata": {
        "id": "E18JxJ2W_mJt"
      }
    },
    {
      "cell_type": "markdown",
      "source": [
        "## c) Calcule a matriz de variância-covariância das componentes principais. Por que nesse caso as covariâncias são nulas?\n"
      ],
      "metadata": {
        "id": "ncpMsJJyxQqK"
      }
    },
    {
      "cell_type": "code",
      "source": [
        "analy_pca_cp <- prcomp(dados, scale = TRUE, center = TRUE)"
      ],
      "metadata": {
        "id": "cdQCl-P9VI96"
      },
      "execution_count": 20,
      "outputs": []
    },
    {
      "cell_type": "code",
      "source": [
        "summary(analy_pca_cp)"
      ],
      "metadata": {
        "colab": {
          "base_uri": "https://localhost:8080/",
          "height": 104
        },
        "id": "QC7bhexuYuxC",
        "outputId": "d3890201-67c4-4fd0-bcd1-184b4db5a279"
      },
      "execution_count": 23,
      "outputs": [
        {
          "output_type": "display_data",
          "data": {
            "text/plain": [
              "Importance of components:\n",
              "                          PC1     PC2     PC3     PC4     PC5\n",
              "Standard deviation     2.0868 0.65255 0.45152 0.09620 0.08029\n",
              "Proportion of Variance 0.8709 0.08517 0.04077 0.00185 0.00129\n",
              "Cumulative Proportion  0.8709 0.95609 0.99686 0.99871 1.00000"
            ]
          },
          "metadata": {}
        }
      ]
    },
    {
      "cell_type": "code",
      "source": [
        "cov_matrix <- cov(analy_pca_cp$x)"
      ],
      "metadata": {
        "id": "uzMX6nBxV-ar"
      },
      "execution_count": 21,
      "outputs": []
    },
    {
      "cell_type": "code",
      "source": [
        "cov_matrix"
      ],
      "metadata": {
        "colab": {
          "base_uri": "https://localhost:8080/",
          "height": 224
        },
        "id": "R4cfephTWR6Z",
        "outputId": "60bf19af-29e9-4aca-f92b-7d42d0ebacaf"
      },
      "execution_count": 22,
      "outputs": [
        {
          "output_type": "display_data",
          "data": {
            "text/html": [
              "<table class=\"dataframe\">\n",
              "<caption>A matrix: 5 × 5 of type dbl</caption>\n",
              "<thead>\n",
              "\t<tr><th></th><th scope=col>PC1</th><th scope=col>PC2</th><th scope=col>PC3</th><th scope=col>PC4</th><th scope=col>PC5</th></tr>\n",
              "</thead>\n",
              "<tbody>\n",
              "\t<tr><th scope=row>PC1</th><td> 4.354602e+00</td><td> 4.329452e-16</td><td> 7.297261e-17</td><td>5.564934e-16</td><td>-8.192590e-16</td></tr>\n",
              "\t<tr><th scope=row>PC2</th><td> 4.329452e-16</td><td> 4.258263e-01</td><td>-1.059033e-18</td><td>3.098350e-17</td><td> 9.900605e-18</td></tr>\n",
              "\t<tr><th scope=row>PC3</th><td> 7.297261e-17</td><td>-1.059033e-18</td><td> 2.038708e-01</td><td>1.703698e-17</td><td> 7.552388e-18</td></tr>\n",
              "\t<tr><th scope=row>PC4</th><td> 5.564934e-16</td><td> 3.098350e-17</td><td> 1.703698e-17</td><td>9.254105e-03</td><td> 7.427269e-19</td></tr>\n",
              "\t<tr><th scope=row>PC5</th><td>-8.192590e-16</td><td> 9.900605e-18</td><td> 7.552388e-18</td><td>7.427269e-19</td><td> 6.446916e-03</td></tr>\n",
              "</tbody>\n",
              "</table>\n"
            ],
            "text/markdown": "\nA matrix: 5 × 5 of type dbl\n\n| <!--/--> | PC1 | PC2 | PC3 | PC4 | PC5 |\n|---|---|---|---|---|---|\n| PC1 |  4.354602e+00 |  4.329452e-16 |  7.297261e-17 | 5.564934e-16 | -8.192590e-16 |\n| PC2 |  4.329452e-16 |  4.258263e-01 | -1.059033e-18 | 3.098350e-17 |  9.900605e-18 |\n| PC3 |  7.297261e-17 | -1.059033e-18 |  2.038708e-01 | 1.703698e-17 |  7.552388e-18 |\n| PC4 |  5.564934e-16 |  3.098350e-17 |  1.703698e-17 | 9.254105e-03 |  7.427269e-19 |\n| PC5 | -8.192590e-16 |  9.900605e-18 |  7.552388e-18 | 7.427269e-19 |  6.446916e-03 |\n\n",
            "text/latex": "A matrix: 5 × 5 of type dbl\n\\begin{tabular}{r|lllll}\n  & PC1 & PC2 & PC3 & PC4 & PC5\\\\\n\\hline\n\tPC1 &  4.354602e+00 &  4.329452e-16 &  7.297261e-17 & 5.564934e-16 & -8.192590e-16\\\\\n\tPC2 &  4.329452e-16 &  4.258263e-01 & -1.059033e-18 & 3.098350e-17 &  9.900605e-18\\\\\n\tPC3 &  7.297261e-17 & -1.059033e-18 &  2.038708e-01 & 1.703698e-17 &  7.552388e-18\\\\\n\tPC4 &  5.564934e-16 &  3.098350e-17 &  1.703698e-17 & 9.254105e-03 &  7.427269e-19\\\\\n\tPC5 & -8.192590e-16 &  9.900605e-18 &  7.552388e-18 & 7.427269e-19 &  6.446916e-03\\\\\n\\end{tabular}\n",
            "text/plain": [
              "    PC1           PC2           PC3           PC4          PC5          \n",
              "PC1  4.354602e+00  4.329452e-16  7.297261e-17 5.564934e-16 -8.192590e-16\n",
              "PC2  4.329452e-16  4.258263e-01 -1.059033e-18 3.098350e-17  9.900605e-18\n",
              "PC3  7.297261e-17 -1.059033e-18  2.038708e-01 1.703698e-17  7.552388e-18\n",
              "PC4  5.564934e-16  3.098350e-17  1.703698e-17 9.254105e-03  7.427269e-19\n",
              "PC5 -8.192590e-16  9.900605e-18  7.552388e-18 7.427269e-19  6.446916e-03"
            ]
          },
          "metadata": {}
        }
      ]
    },
    {
      "cell_type": "markdown",
      "source": [
        "As covariâncias entre as componentes principais serão nulas porque uma das propriedades da analise de componentes principais é que as novas componentes principais são não correlacionadas entre si, o que resulta em covariâncias nulas entre elas."
      ],
      "metadata": {
        "id": "qKa3ayiNYOoU"
      }
    },
    {
      "cell_type": "markdown",
      "source": [
        "## d) Por que a variável X2 só está representada efetivamente na última componente principal, aquela com menor autovalor?\n"
      ],
      "metadata": {
        "id": "GJQYuQKMxSbS"
      }
    },
    {
      "cell_type": "markdown",
      "source": [
        "De fato a variável X2 só pode ser representada na ultima componente, isso porque a variância de X2 é muito pequena em comparação com as variâncias de X1, X3, X4, X5."
      ],
      "metadata": {
        "id": "v1JKp5T1ZROi"
      }
    },
    {
      "cell_type": "markdown",
      "source": [
        "## e) Represente, através de um gráfico de dispersão, a primeira e a segunda componentes principais. Qual a proporção da variância total que está representada nestas duas primeiras componentes?"
      ],
      "metadata": {
        "id": "Pd6AJ-pvxUEC"
      }
    },
    {
      "cell_type": "code",
      "source": [
        "pc_df <- data.frame(PC1 = analy_pca_cp$x[, 1], PC2 = analy_pca_cp$x[, 2])"
      ],
      "metadata": {
        "id": "VblDSk_nahAd"
      },
      "execution_count": 24,
      "outputs": []
    },
    {
      "cell_type": "code",
      "source": [
        "library(ggplot2)\n",
        "\n",
        "ggplot(pc_df, aes(x = PC1, y = PC2)) +\n",
        "  geom_point() + theme_minimal() +\n",
        "  labs(x = \"Primeira Componente Principal (PC1)\", y = \"Segunda Componente Principal (PC2)\") +\n",
        "  ggtitle(\"Gráfico de Dispersão das Componentes Principais\")"
      ],
      "metadata": {
        "colab": {
          "base_uri": "https://localhost:8080/",
          "height": 437
        },
        "id": "CBrtKJg0a5Xj",
        "outputId": "83b81269-562a-40c3-f98c-5f67a294438b"
      },
      "execution_count": 30,
      "outputs": [
        {
          "output_type": "display_data",
          "data": {
            "text/plain": [
              "plot without title"
            ],
            "image/png": "[encoded data removed]"
          },
          "metadata": {
            "image/png": {
              "width": 420,
              "height": 420
            }
          }
        }
      ]
    },
    {
      "cell_type": "markdown",
      "source": [
        "Cerca de 95% da variabilidade nas duas primeiras componentes."
      ],
      "metadata": {
        "id": "FsH4_wd5bZ80"
      }
    },
    {
      "cell_type": "markdown",
      "source": [
        "# 3 - A fim de retirar a forte relação entre duas variáveis X1 e X2, uma pessoa pensou em aplicar esses dados a uma análise de componentes principais. No entanto, ela observou que, quando plotou o diagrama de dispersão entre as componentes principais resultantes, aparentemente a relação entre elas ainda existia. Ela esperava que a distribuição dos pontos fosse totalmente casual, indicando a independência entre as componentes. Qual a explicação para isso? Você imagina uma maneira de conseguir de fato produzir componentes que sejam independentes entre si?\n"
      ],
      "metadata": {
        "id": "v8o7QQ-jcYfB"
      }
    },
    {
      "cell_type": "markdown",
      "source": [
        "O fato de a relação entre as variáveis originais ainda ser presente no diagrama de dispersão acima pode ser devido a uma característica da análise de componentes principais. Essa análise busca maximizar a variância dos dados nas primeiras componentes principais, como vimos no tópico 2, **mas não necessariamente garante independência entre elas**. Ou seja, as componentes principais são obtidas de forma a serem ortogonais entre si, o que significa que elas são não correlacionadas, mas isso não implica que elas sejam independentes."
      ],
      "metadata": {
        "id": "xVII2InncXuu"
      }
    }
  ]
}
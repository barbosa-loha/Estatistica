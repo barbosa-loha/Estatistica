{
  "nbformat": 4,
  "nbformat_minor": 0,
  "metadata": {
    "colab": {
      "provenance": [],
      "authorship_tag": "ABX9TyOw6ljEQy+rSI4zmG/tMbIz",
      "include_colab_link": true
    },
    "kernelspec": {
      "name": "python3",
      "display_name": "Python 3"
    },
    "language_info": {
      "name": "python"
    }
  },
  "cells": [
    {
      "cell_type": "markdown",
      "metadata": {
        "id": "view-in-github",
        "colab_type": "text"
      },
      "source": [
        "<a href=\"https://colab.research.google.com/github/barbosa-loha/Estatistica/blob/main/Netflix_ViewingActivity_Lissandra.ipynb\" target=\"_parent\"><img src=\"https://colab.research.google.com/assets/colab-badge.svg\" alt=\"Open In Colab\"/></a>"
      ]
    },
    {
      "cell_type": "markdown",
      "source": [
        "O arquivo a seguir corresponde ao arquivo ViewingActivity da usuária Lissandra, no período de 23 de janeiro de 2023 ao período de 14 de maio de 2023, no qual a Netfliz disponibiliza caso os usuários o peçam. A solicitação é feita imediatamente, no entanto, o envio dos dados está previsto para até 30 dias corridos."
      ],
      "metadata": {
        "id": "evQbjcd50Va4"
      }
    },
    {
      "cell_type": "markdown",
      "source": [
        "Carregando bilbiotecas e o banco de dados:"
      ],
      "metadata": {
        "id": "0wHIxtJ10oqO"
      }
    },
    {
      "cell_type": "code",
      "source": [
        "import pandas as pd\n",
        "import numpy as np \n",
        "import matplotlib.pyplot as plt\n",
        "import seaborn as sns\n",
        "!wget http://bit.ly/3ZLyF82 -O CSS.css -q\n",
        "    \n",
        "from IPython.core.display import HTML\n",
        "with open('./CSS.css', 'r') as file:\n",
        "    custom_css = file.read()\n",
        "\n",
        "HTML(custom_css)\n",
        "from collections import Counter\n",
        "import plotly.express as px"
      ],
      "metadata": {
        "id": "i6fmmNrF3C0f"
      },
      "execution_count": 36,
      "outputs": []
    },
    {
      "cell_type": "code",
      "execution_count": 33,
      "metadata": {
        "colab": {
          "base_uri": "https://localhost:8080/",
          "height": 659
        },
        "id": "dBEfmzVvzyiu",
        "outputId": "c8086989-ff02-4539-cbc1-bb2f30015cdb"
      },
      "outputs": [
        {
          "output_type": "execute_result",
          "data": {
            "text/plain": [
              "    Profile Name           Start Time  Duration  \\\n",
              "0      Lissandra  2023-05-14 20:44:54  00:36:00   \n",
              "1      Lissandra  2023-05-14 20:27:43  00:17:05   \n",
              "2      Lissandra  2023-05-14 19:39:36  00:12:13   \n",
              "3      Lissandra  2023-05-14 19:08:59  00:30:34   \n",
              "4      Lissandra  2023-05-14 18:29:54  00:38:04   \n",
              "..           ...                  ...       ...   \n",
              "696    Lissandra  2023-01-24 01:00:55  00:21:09   \n",
              "697    Lissandra  2023-01-23 22:40:32  00:02:26   \n",
              "698    Lissandra  2023-01-23 22:13:15  00:25:10   \n",
              "699    Lissandra  2023-01-23 22:12:48  00:00:03   \n",
              "700    Lissandra  2023-01-23 22:11:49  00:00:26   \n",
              "\n",
              "                                      Attributes  \\\n",
              "0                                            NaN   \n",
              "1    Autoplayed: user action: User_Interaction;    \n",
              "2                                            NaN   \n",
              "3                                            NaN   \n",
              "4    Autoplayed: user action: User_Interaction;    \n",
              "..                                           ...   \n",
              "696                                          NaN   \n",
              "697                                          NaN   \n",
              "698                                          NaN   \n",
              "699                                          NaN   \n",
              "700              Autoplayed: user action: None;    \n",
              "\n",
              "                                                 Title  \\\n",
              "0    Respire!: Minissérie: Você está em casa (Episó...   \n",
              "1    Respire!: Minissérie: Realidade e sonhos (Epis...   \n",
              "2    Respire!: Minissérie: Realidade e sonhos (Epis...   \n",
              "3          Respire!: Minissérie: Partidas (Episódio 4)   \n",
              "4    Respire!: Minissérie: Hierarquia de necessidad...   \n",
              "..                                                 ...   \n",
              "696  Bee e o Gatiorrinho: Parte 1: Quem iria querer...   \n",
              "697  Bee e o Gatiorrinho: Parte 1: Quem iria querer...   \n",
              "698  Bee e o Gatiorrinho: Parte 1: O que você quer ...   \n",
              "699                                              Belle   \n",
              "700              Parte 2 (Clipe 1): Alquimia das Almas   \n",
              "\n",
              "    Supplemental Video Type                                  Device Type  \\\n",
              "0                       NaN  Amazon Fire TV Stick 2020 + Streaming Stick   \n",
              "1                       NaN  Amazon Fire TV Stick 2020 + Streaming Stick   \n",
              "2                       NaN  Amazon Fire TV Stick 2020 + Streaming Stick   \n",
              "3                       NaN  Amazon Fire TV Stick 2020 + Streaming Stick   \n",
              "4                       NaN  Amazon Fire TV Stick 2020 + Streaming Stick   \n",
              "..                      ...                                          ...   \n",
              "696                     NaN                          Chrome PC (Cadmium)   \n",
              "697                     NaN                          Chrome PC (Cadmium)   \n",
              "698                     NaN                          Chrome PC (Cadmium)   \n",
              "699                     NaN                          Chrome PC (Cadmium)   \n",
              "700                    HOOK                          Chrome PC (Cadmium)   \n",
              "\n",
              "     Bookmark  Latest Bookmark      Country  \n",
              "0    00:36:05         00:36:05  BR (Brazil)  \n",
              "1    00:29:22         00:29:22  BR (Brazil)  \n",
              "2    00:12:18  Not latest view  BR (Brazil)  \n",
              "3    00:30:39         00:30:39  BR (Brazil)  \n",
              "4    00:38:05         00:38:05  BR (Brazil)  \n",
              "..        ...              ...          ...  \n",
              "696  00:23:35         00:23:35  BR (Brazil)  \n",
              "697  00:02:26  Not latest view  BR (Brazil)  \n",
              "698  00:25:02  Not latest view  BR (Brazil)  \n",
              "699  00:00:03         00:00:03  BR (Brazil)  \n",
              "700  00:00:26  Not latest view  BR (Brazil)  \n",
              "\n",
              "[701 rows x 10 columns]"
            ],
            "text/html": [
              "\n",
              "  <div id=\"df-d08e185b-b60b-4292-b2a6-5e71ebdac3fb\">\n",
              "    <div class=\"colab-df-container\">\n",
              "      <div>\n",
              "<style scoped>\n",
              "    .dataframe tbody tr th:only-of-type {\n",
              "        vertical-align: middle;\n",
              "    }\n",
              "\n",
              "    .dataframe tbody tr th {\n",
              "        vertical-align: top;\n",
              "    }\n",
              "\n",
              "    .dataframe thead th {\n",
              "        text-align: right;\n",
              "    }\n",
              "</style>\n",
              "<table border=\"1\" class=\"dataframe\">\n",
              "  <thead>\n",
              "    <tr style=\"text-align: right;\">\n",
              "      <th></th>\n",
              "      <th>Profile Name</th>\n",
              "      <th>Start Time</th>\n",
              "      <th>Duration</th>\n",
              "      <th>Attributes</th>\n",
              "      <th>Title</th>\n",
              "      <th>Supplemental Video Type</th>\n",
              "      <th>Device Type</th>\n",
              "      <th>Bookmark</th>\n",
              "      <th>Latest Bookmark</th>\n",
              "      <th>Country</th>\n",
              "    </tr>\n",
              "  </thead>\n",
              "  <tbody>\n",
              "    <tr>\n",
              "      <th>0</th>\n",
              "      <td>Lissandra</td>\n",
              "      <td>2023-05-14 20:44:54</td>\n",
              "      <td>00:36:00</td>\n",
              "      <td>NaN</td>\n",
              "      <td>Respire!: Minissérie: Você está em casa (Episó...</td>\n",
              "      <td>NaN</td>\n",
              "      <td>Amazon Fire TV Stick 2020 + Streaming Stick</td>\n",
              "      <td>00:36:05</td>\n",
              "      <td>00:36:05</td>\n",
              "      <td>BR (Brazil)</td>\n",
              "    </tr>\n",
              "    <tr>\n",
              "      <th>1</th>\n",
              "      <td>Lissandra</td>\n",
              "      <td>2023-05-14 20:27:43</td>\n",
              "      <td>00:17:05</td>\n",
              "      <td>Autoplayed: user action: User_Interaction;</td>\n",
              "      <td>Respire!: Minissérie: Realidade e sonhos (Epis...</td>\n",
              "      <td>NaN</td>\n",
              "      <td>Amazon Fire TV Stick 2020 + Streaming Stick</td>\n",
              "      <td>00:29:22</td>\n",
              "      <td>00:29:22</td>\n",
              "      <td>BR (Brazil)</td>\n",
              "    </tr>\n",
              "    <tr>\n",
              "      <th>2</th>\n",
              "      <td>Lissandra</td>\n",
              "      <td>2023-05-14 19:39:36</td>\n",
              "      <td>00:12:13</td>\n",
              "      <td>NaN</td>\n",
              "      <td>Respire!: Minissérie: Realidade e sonhos (Epis...</td>\n",
              "      <td>NaN</td>\n",
              "      <td>Amazon Fire TV Stick 2020 + Streaming Stick</td>\n",
              "      <td>00:12:18</td>\n",
              "      <td>Not latest view</td>\n",
              "      <td>BR (Brazil)</td>\n",
              "    </tr>\n",
              "    <tr>\n",
              "      <th>3</th>\n",
              "      <td>Lissandra</td>\n",
              "      <td>2023-05-14 19:08:59</td>\n",
              "      <td>00:30:34</td>\n",
              "      <td>NaN</td>\n",
              "      <td>Respire!: Minissérie: Partidas (Episódio 4)</td>\n",
              "      <td>NaN</td>\n",
              "      <td>Amazon Fire TV Stick 2020 + Streaming Stick</td>\n",
              "      <td>00:30:39</td>\n",
              "      <td>00:30:39</td>\n",
              "      <td>BR (Brazil)</td>\n",
              "    </tr>\n",
              "    <tr>\n",
              "      <th>4</th>\n",
              "      <td>Lissandra</td>\n",
              "      <td>2023-05-14 18:29:54</td>\n",
              "      <td>00:38:04</td>\n",
              "      <td>Autoplayed: user action: User_Interaction;</td>\n",
              "      <td>Respire!: Minissérie: Hierarquia de necessidad...</td>\n",
              "      <td>NaN</td>\n",
              "      <td>Amazon Fire TV Stick 2020 + Streaming Stick</td>\n",
              "      <td>00:38:05</td>\n",
              "      <td>00:38:05</td>\n",
              "      <td>BR (Brazil)</td>\n",
              "    </tr>\n",
              "    <tr>\n",
              "      <th>...</th>\n",
              "      <td>...</td>\n",
              "      <td>...</td>\n",
              "      <td>...</td>\n",
              "      <td>...</td>\n",
              "      <td>...</td>\n",
              "      <td>...</td>\n",
              "      <td>...</td>\n",
              "      <td>...</td>\n",
              "      <td>...</td>\n",
              "      <td>...</td>\n",
              "    </tr>\n",
              "    <tr>\n",
              "      <th>696</th>\n",
              "      <td>Lissandra</td>\n",
              "      <td>2023-01-24 01:00:55</td>\n",
              "      <td>00:21:09</td>\n",
              "      <td>NaN</td>\n",
              "      <td>Bee e o Gatiorrinho: Parte 1: Quem iria querer...</td>\n",
              "      <td>NaN</td>\n",
              "      <td>Chrome PC (Cadmium)</td>\n",
              "      <td>00:23:35</td>\n",
              "      <td>00:23:35</td>\n",
              "      <td>BR (Brazil)</td>\n",
              "    </tr>\n",
              "    <tr>\n",
              "      <th>697</th>\n",
              "      <td>Lissandra</td>\n",
              "      <td>2023-01-23 22:40:32</td>\n",
              "      <td>00:02:26</td>\n",
              "      <td>NaN</td>\n",
              "      <td>Bee e o Gatiorrinho: Parte 1: Quem iria querer...</td>\n",
              "      <td>NaN</td>\n",
              "      <td>Chrome PC (Cadmium)</td>\n",
              "      <td>00:02:26</td>\n",
              "      <td>Not latest view</td>\n",
              "      <td>BR (Brazil)</td>\n",
              "    </tr>\n",
              "    <tr>\n",
              "      <th>698</th>\n",
              "      <td>Lissandra</td>\n",
              "      <td>2023-01-23 22:13:15</td>\n",
              "      <td>00:25:10</td>\n",
              "      <td>NaN</td>\n",
              "      <td>Bee e o Gatiorrinho: Parte 1: O que você quer ...</td>\n",
              "      <td>NaN</td>\n",
              "      <td>Chrome PC (Cadmium)</td>\n",
              "      <td>00:25:02</td>\n",
              "      <td>Not latest view</td>\n",
              "      <td>BR (Brazil)</td>\n",
              "    </tr>\n",
              "    <tr>\n",
              "      <th>699</th>\n",
              "      <td>Lissandra</td>\n",
              "      <td>2023-01-23 22:12:48</td>\n",
              "      <td>00:00:03</td>\n",
              "      <td>NaN</td>\n",
              "      <td>Belle</td>\n",
              "      <td>NaN</td>\n",
              "      <td>Chrome PC (Cadmium)</td>\n",
              "      <td>00:00:03</td>\n",
              "      <td>00:00:03</td>\n",
              "      <td>BR (Brazil)</td>\n",
              "    </tr>\n",
              "    <tr>\n",
              "      <th>700</th>\n",
              "      <td>Lissandra</td>\n",
              "      <td>2023-01-23 22:11:49</td>\n",
              "      <td>00:00:26</td>\n",
              "      <td>Autoplayed: user action: None;</td>\n",
              "      <td>Parte 2 (Clipe 1): Alquimia das Almas</td>\n",
              "      <td>HOOK</td>\n",
              "      <td>Chrome PC (Cadmium)</td>\n",
              "      <td>00:00:26</td>\n",
              "      <td>Not latest view</td>\n",
              "      <td>BR (Brazil)</td>\n",
              "    </tr>\n",
              "  </tbody>\n",
              "</table>\n",
              "<p>701 rows × 10 columns</p>\n",
              "</div>\n",
              "      <button class=\"colab-df-convert\" onclick=\"convertToInteractive('df-d08e185b-b60b-4292-b2a6-5e71ebdac3fb')\"\n",
              "              title=\"Convert this dataframe to an interactive table.\"\n",
              "              style=\"display:none;\">\n",
              "        \n",
              "  <svg xmlns=\"http://www.w3.org/2000/svg\" height=\"24px\"viewBox=\"0 0 24 24\"\n",
              "       width=\"24px\">\n",
              "    <path d=\"M0 0h24v24H0V0z\" fill=\"none\"/>\n",
              "    <path d=\"M18.56 5.44l.94 2.06.94-2.06 2.06-.94-2.06-.94-.94-2.06-.94 2.06-2.06.94zm-11 1L8.5 8.5l.94-2.06 2.06-.94-2.06-.94L8.5 2.5l-.94 2.06-2.06.94zm10 10l.94 2.06.94-2.06 2.06-.94-2.06-.94-.94-2.06-.94 2.06-2.06.94z\"/><path d=\"M17.41 7.96l-1.37-1.37c-.4-.4-.92-.59-1.43-.59-.52 0-1.04.2-1.43.59L10.3 9.45l-7.72 7.72c-.78.78-.78 2.05 0 2.83L4 21.41c.39.39.9.59 1.41.59.51 0 1.02-.2 1.41-.59l7.78-7.78 2.81-2.81c.8-.78.8-2.07 0-2.86zM5.41 20L4 18.59l7.72-7.72 1.47 1.35L5.41 20z\"/>\n",
              "  </svg>\n",
              "      </button>\n",
              "      \n",
              "  <style>\n",
              "    .colab-df-container {\n",
              "      display:flex;\n",
              "      flex-wrap:wrap;\n",
              "      gap: 12px;\n",
              "    }\n",
              "\n",
              "    .colab-df-convert {\n",
              "      background-color: #E8F0FE;\n",
              "      border: none;\n",
              "      border-radius: 50%;\n",
              "      cursor: pointer;\n",
              "      display: none;\n",
              "      fill: #1967D2;\n",
              "      height: 32px;\n",
              "      padding: 0 0 0 0;\n",
              "      width: 32px;\n",
              "    }\n",
              "\n",
              "    .colab-df-convert:hover {\n",
              "      background-color: #E2EBFA;\n",
              "      box-shadow: 0px 1px 2px rgba(60, 64, 67, 0.3), 0px 1px 3px 1px rgba(60, 64, 67, 0.15);\n",
              "      fill: #174EA6;\n",
              "    }\n",
              "\n",
              "    [theme=dark] .colab-df-convert {\n",
              "      background-color: #3B4455;\n",
              "      fill: #D2E3FC;\n",
              "    }\n",
              "\n",
              "    [theme=dark] .colab-df-convert:hover {\n",
              "      background-color: #434B5C;\n",
              "      box-shadow: 0px 1px 3px 1px rgba(0, 0, 0, 0.15);\n",
              "      filter: drop-shadow(0px 1px 2px rgba(0, 0, 0, 0.3));\n",
              "      fill: #FFFFFF;\n",
              "    }\n",
              "  </style>\n",
              "\n",
              "      <script>\n",
              "        const buttonEl =\n",
              "          document.querySelector('#df-d08e185b-b60b-4292-b2a6-5e71ebdac3fb button.colab-df-convert');\n",
              "        buttonEl.style.display =\n",
              "          google.colab.kernel.accessAllowed ? 'block' : 'none';\n",
              "\n",
              "        async function convertToInteractive(key) {\n",
              "          const element = document.querySelector('#df-d08e185b-b60b-4292-b2a6-5e71ebdac3fb');\n",
              "          const dataTable =\n",
              "            await google.colab.kernel.invokeFunction('convertToInteractive',\n",
              "                                                     [key], {});\n",
              "          if (!dataTable) return;\n",
              "\n",
              "          const docLinkHtml = 'Like what you see? Visit the ' +\n",
              "            '<a target=\"_blank\" href=https://colab.research.google.com/notebooks/data_table.ipynb>data table notebook</a>'\n",
              "            + ' to learn more about interactive tables.';\n",
              "          element.innerHTML = '';\n",
              "          dataTable['output_type'] = 'display_data';\n",
              "          await google.colab.output.renderOutput(dataTable, element);\n",
              "          const docLink = document.createElement('div');\n",
              "          docLink.innerHTML = docLinkHtml;\n",
              "          element.appendChild(docLink);\n",
              "        }\n",
              "      </script>\n",
              "    </div>\n",
              "  </div>\n",
              "  "
            ]
          },
          "metadata": {},
          "execution_count": 33
        }
      ],
      "source": [
        "arquivo1 = '/content/ViewingActivity.csv'\n",
        "dados1 = pd.read_csv(arquivo1)\n",
        "dados1"
      ]
    },
    {
      "cell_type": "markdown",
      "source": [
        "Verfifica valores únicos em cada variável:"
      ],
      "metadata": {
        "id": "YWM2IDLx3RxP"
      }
    },
    {
      "cell_type": "code",
      "source": [
        "dados1.nunique() #Verificar valores exclusivos"
      ],
      "metadata": {
        "colab": {
          "base_uri": "https://localhost:8080/"
        },
        "id": "v0NErPy6z59l",
        "outputId": "1f37dfff-e1d0-4fe5-9298-343097c7cb95"
      },
      "execution_count": 6,
      "outputs": [
        {
          "output_type": "execute_result",
          "data": {
            "text/plain": [
              "Profile Name                 1\n",
              "Start Time                 701\n",
              "Duration                   371\n",
              "Attributes                   2\n",
              "Title                      490\n",
              "Supplemental Video Type      5\n",
              "Device Type                  3\n",
              "Bookmark                   358\n",
              "Latest Bookmark            234\n",
              "Country                      1\n",
              "dtype: int64"
            ]
          },
          "metadata": {},
          "execution_count": 6
        }
      ]
    },
    {
      "cell_type": "markdown",
      "source": [
        "Retirando as variáveis que não vamos usar e criando uma nova coluna a partir de titulos, na qual está mais limpo do na original:"
      ],
      "metadata": {
        "id": "8ndjSPUz0zy-"
      }
    },
    {
      "cell_type": "code",
      "source": [
        "dados1 = dados1.drop([\"Profile Name\", 'Attributes', 'Supplemental Video Type',\n",
        "             'Device Type', 'Bookmark', 'Latest Bookmark', 'Country'], axis=1)\n",
        "trailer = dados1[dados1[\"Title\"].str.contains(\"(Trailer)\")]"
      ],
      "metadata": {
        "colab": {
          "base_uri": "https://localhost:8080/"
        },
        "id": "gA-qGYMDz57G",
        "outputId": "6b822ada-168b-4d84-8cba-fc4ade76e1ac"
      },
      "execution_count": 7,
      "outputs": [
        {
          "output_type": "stream",
          "name": "stderr",
          "text": [
            "<ipython-input-7-559ab0c271c6>:3: UserWarning: This pattern is interpreted as a regular expression, and has match groups. To actually get the groups, use str.extract.\n",
            "  trailer = dados1[dados1[\"Title\"].str.contains(\"(Trailer)\")]\n"
          ]
        }
      ]
    },
    {
      "cell_type": "code",
      "source": [
        "dados1['Title_clean'] = dados1['Title'].str.split('_').str[0]\n",
        "dados1['Title_clean'] = dados1['Title_clean'].str.split(':').str[0]"
      ],
      "metadata": {
        "id": "HWQkNXLMz54m"
      },
      "execution_count": 8,
      "outputs": []
    },
    {
      "cell_type": "code",
      "source": [
        "dados1.head()"
      ],
      "metadata": {
        "colab": {
          "base_uri": "https://localhost:8080/",
          "height": 206
        },
        "id": "W18X1aHE1VoW",
        "outputId": "721b440a-5995-484a-a31d-caaac131f6ab"
      },
      "execution_count": 9,
      "outputs": [
        {
          "output_type": "execute_result",
          "data": {
            "text/plain": [
              "            Start Time  Duration  \\\n",
              "0  2023-05-14 20:44:54  00:36:00   \n",
              "1  2023-05-14 20:27:43  00:17:05   \n",
              "2  2023-05-14 19:39:36  00:12:13   \n",
              "3  2023-05-14 19:08:59  00:30:34   \n",
              "4  2023-05-14 18:29:54  00:38:04   \n",
              "\n",
              "                                               Title Title_clean  \n",
              "0  Respire!: Minissérie: Você está em casa (Episó...    Respire!  \n",
              "1  Respire!: Minissérie: Realidade e sonhos (Epis...    Respire!  \n",
              "2  Respire!: Minissérie: Realidade e sonhos (Epis...    Respire!  \n",
              "3        Respire!: Minissérie: Partidas (Episódio 4)    Respire!  \n",
              "4  Respire!: Minissérie: Hierarquia de necessidad...    Respire!  "
            ],
            "text/html": [
              "\n",
              "  <div id=\"df-8f027ad6-b896-443f-8e20-9d86daca581d\">\n",
              "    <div class=\"colab-df-container\">\n",
              "      <div>\n",
              "<style scoped>\n",
              "    .dataframe tbody tr th:only-of-type {\n",
              "        vertical-align: middle;\n",
              "    }\n",
              "\n",
              "    .dataframe tbody tr th {\n",
              "        vertical-align: top;\n",
              "    }\n",
              "\n",
              "    .dataframe thead th {\n",
              "        text-align: right;\n",
              "    }\n",
              "</style>\n",
              "<table border=\"1\" class=\"dataframe\">\n",
              "  <thead>\n",
              "    <tr style=\"text-align: right;\">\n",
              "      <th></th>\n",
              "      <th>Start Time</th>\n",
              "      <th>Duration</th>\n",
              "      <th>Title</th>\n",
              "      <th>Title_clean</th>\n",
              "    </tr>\n",
              "  </thead>\n",
              "  <tbody>\n",
              "    <tr>\n",
              "      <th>0</th>\n",
              "      <td>2023-05-14 20:44:54</td>\n",
              "      <td>00:36:00</td>\n",
              "      <td>Respire!: Minissérie: Você está em casa (Episó...</td>\n",
              "      <td>Respire!</td>\n",
              "    </tr>\n",
              "    <tr>\n",
              "      <th>1</th>\n",
              "      <td>2023-05-14 20:27:43</td>\n",
              "      <td>00:17:05</td>\n",
              "      <td>Respire!: Minissérie: Realidade e sonhos (Epis...</td>\n",
              "      <td>Respire!</td>\n",
              "    </tr>\n",
              "    <tr>\n",
              "      <th>2</th>\n",
              "      <td>2023-05-14 19:39:36</td>\n",
              "      <td>00:12:13</td>\n",
              "      <td>Respire!: Minissérie: Realidade e sonhos (Epis...</td>\n",
              "      <td>Respire!</td>\n",
              "    </tr>\n",
              "    <tr>\n",
              "      <th>3</th>\n",
              "      <td>2023-05-14 19:08:59</td>\n",
              "      <td>00:30:34</td>\n",
              "      <td>Respire!: Minissérie: Partidas (Episódio 4)</td>\n",
              "      <td>Respire!</td>\n",
              "    </tr>\n",
              "    <tr>\n",
              "      <th>4</th>\n",
              "      <td>2023-05-14 18:29:54</td>\n",
              "      <td>00:38:04</td>\n",
              "      <td>Respire!: Minissérie: Hierarquia de necessidad...</td>\n",
              "      <td>Respire!</td>\n",
              "    </tr>\n",
              "  </tbody>\n",
              "</table>\n",
              "</div>\n",
              "      <button class=\"colab-df-convert\" onclick=\"convertToInteractive('df-8f027ad6-b896-443f-8e20-9d86daca581d')\"\n",
              "              title=\"Convert this dataframe to an interactive table.\"\n",
              "              style=\"display:none;\">\n",
              "        \n",
              "  <svg xmlns=\"http://www.w3.org/2000/svg\" height=\"24px\"viewBox=\"0 0 24 24\"\n",
              "       width=\"24px\">\n",
              "    <path d=\"M0 0h24v24H0V0z\" fill=\"none\"/>\n",
              "    <path d=\"M18.56 5.44l.94 2.06.94-2.06 2.06-.94-2.06-.94-.94-2.06-.94 2.06-2.06.94zm-11 1L8.5 8.5l.94-2.06 2.06-.94-2.06-.94L8.5 2.5l-.94 2.06-2.06.94zm10 10l.94 2.06.94-2.06 2.06-.94-2.06-.94-.94-2.06-.94 2.06-2.06.94z\"/><path d=\"M17.41 7.96l-1.37-1.37c-.4-.4-.92-.59-1.43-.59-.52 0-1.04.2-1.43.59L10.3 9.45l-7.72 7.72c-.78.78-.78 2.05 0 2.83L4 21.41c.39.39.9.59 1.41.59.51 0 1.02-.2 1.41-.59l7.78-7.78 2.81-2.81c.8-.78.8-2.07 0-2.86zM5.41 20L4 18.59l7.72-7.72 1.47 1.35L5.41 20z\"/>\n",
              "  </svg>\n",
              "      </button>\n",
              "      \n",
              "  <style>\n",
              "    .colab-df-container {\n",
              "      display:flex;\n",
              "      flex-wrap:wrap;\n",
              "      gap: 12px;\n",
              "    }\n",
              "\n",
              "    .colab-df-convert {\n",
              "      background-color: #E8F0FE;\n",
              "      border: none;\n",
              "      border-radius: 50%;\n",
              "      cursor: pointer;\n",
              "      display: none;\n",
              "      fill: #1967D2;\n",
              "      height: 32px;\n",
              "      padding: 0 0 0 0;\n",
              "      width: 32px;\n",
              "    }\n",
              "\n",
              "    .colab-df-convert:hover {\n",
              "      background-color: #E2EBFA;\n",
              "      box-shadow: 0px 1px 2px rgba(60, 64, 67, 0.3), 0px 1px 3px 1px rgba(60, 64, 67, 0.15);\n",
              "      fill: #174EA6;\n",
              "    }\n",
              "\n",
              "    [theme=dark] .colab-df-convert {\n",
              "      background-color: #3B4455;\n",
              "      fill: #D2E3FC;\n",
              "    }\n",
              "\n",
              "    [theme=dark] .colab-df-convert:hover {\n",
              "      background-color: #434B5C;\n",
              "      box-shadow: 0px 1px 3px 1px rgba(0, 0, 0, 0.15);\n",
              "      filter: drop-shadow(0px 1px 2px rgba(0, 0, 0, 0.3));\n",
              "      fill: #FFFFFF;\n",
              "    }\n",
              "  </style>\n",
              "\n",
              "      <script>\n",
              "        const buttonEl =\n",
              "          document.querySelector('#df-8f027ad6-b896-443f-8e20-9d86daca581d button.colab-df-convert');\n",
              "        buttonEl.style.display =\n",
              "          google.colab.kernel.accessAllowed ? 'block' : 'none';\n",
              "\n",
              "        async function convertToInteractive(key) {\n",
              "          const element = document.querySelector('#df-8f027ad6-b896-443f-8e20-9d86daca581d');\n",
              "          const dataTable =\n",
              "            await google.colab.kernel.invokeFunction('convertToInteractive',\n",
              "                                                     [key], {});\n",
              "          if (!dataTable) return;\n",
              "\n",
              "          const docLinkHtml = 'Like what you see? Visit the ' +\n",
              "            '<a target=\"_blank\" href=https://colab.research.google.com/notebooks/data_table.ipynb>data table notebook</a>'\n",
              "            + ' to learn more about interactive tables.';\n",
              "          element.innerHTML = '';\n",
              "          dataTable['output_type'] = 'display_data';\n",
              "          await google.colab.output.renderOutput(dataTable, element);\n",
              "          const docLink = document.createElement('div');\n",
              "          docLink.innerHTML = docLinkHtml;\n",
              "          element.appendChild(docLink);\n",
              "        }\n",
              "      </script>\n",
              "    </div>\n",
              "  </div>\n",
              "  "
            ]
          },
          "metadata": {},
          "execution_count": 9
        }
      ]
    },
    {
      "cell_type": "markdown",
      "source": [
        "Corrigindo o formato de data e hora em formatos de \"data e hora\":"
      ],
      "metadata": {
        "id": "OYHJXs_y1pS_"
      }
    },
    {
      "cell_type": "code",
      "source": [
        "dados1['Duration'] = pd.to_timedelta(dados1['Duration'])\n",
        "dados1['Start Time'] = pd.to_datetime(dados1['Start Time'])"
      ],
      "metadata": {
        "id": "SzVJLLcBz52O"
      },
      "execution_count": 10,
      "outputs": []
    },
    {
      "cell_type": "markdown",
      "source": [
        "# Algumas das descobertas 🙇"
      ],
      "metadata": {
        "id": "yp5nmFUI3Y9e"
      }
    },
    {
      "cell_type": "markdown",
      "source": [
        "*   Qual filme a Lissandra mais assistiu em uma única sessão e por quanto tempo assistiu?"
      ],
      "metadata": {
        "id": "vraPxAmx1vs3"
      }
    },
    {
      "cell_type": "code",
      "source": [
        "def longestSession():\n",
        "    print('Sessão mais longa:',dados1[\"Duration\"].max())\n",
        "    longsess = dados1[\"Duration\"].max()\n",
        "    # find index of longest duration according to excel sheet\n",
        "    longsess_idx = dados1.index[dados1[\"Duration\"] == longsess][0] #get first match of longest duration index\n",
        "    # get entire row using the index    \n",
        "    longsess = dados1.iloc[[longsess_idx]] #takes in a list and returns all the data in that row\n",
        "    print(\"Lizzie, você assistiu\", longsess[\"Title\"].values[0], \"por\", longsess[\"Duration\"].values[0])\n",
        "longestSession()"
      ],
      "metadata": {
        "colab": {
          "base_uri": "https://localhost:8080/"
        },
        "id": "TLao-n0Bz5z2",
        "outputId": "bdd0e84b-ae3c-4710-cc10-fb6d2f989dd0"
      },
      "execution_count": 11,
      "outputs": [
        {
          "output_type": "stream",
          "name": "stdout",
          "text": [
            "Sessão mais longa: 0 days 01:43:47\n",
            "Lizzie, você assistiu Persuasão por 6227000000000 nanoseconds\n"
          ]
        }
      ]
    },
    {
      "cell_type": "markdown",
      "source": [
        "Nesse caso, Lissandra assistiu \"Persuasão\", em uma hora e quarenta e três minutos em uma única sessão."
      ],
      "metadata": {
        "id": "R7cKBPHZ12pH"
      }
    },
    {
      "cell_type": "markdown",
      "source": [
        "Como o banco de dados carece de variáveis, pode-se realizar algumas análises exploratórias.\n",
        "  \n",
        "*   Tempo total gasto assistindo a um filme específico:"
      ],
      "metadata": {
        "id": "pKlN7uUi1_dP"
      }
    },
    {
      "cell_type": "code",
      "source": [
        "def totalTimeSpent(movie):\n",
        "    moviename = dados1[dados1['Title_clean'].str.contains(movie, regex=False)]\n",
        "    print(\"tempo gasto assistindo\",movie,moviename[\"Duration\"].sum())\n",
        "\n",
        "totalTimeSpent('Emily em Paris')\n",
        "totalTimeSpent('Breaking Bad')\n",
        "totalTimeSpent('Respire!')\n",
        "totalTimeSpent('Persuasão')\n"
      ],
      "metadata": {
        "colab": {
          "base_uri": "https://localhost:8080/"
        },
        "id": "A_JsVnXFz5xd",
        "outputId": "e5bd24a4-2e60-4927-a038-31f3c81bbed1"
      },
      "execution_count": 12,
      "outputs": [
        {
          "output_type": "stream",
          "name": "stdout",
          "text": [
            "tempo gasto assistindo Emily em Paris 0 days 13:59:21\n",
            "tempo gasto assistindo Breaking Bad 0 days 08:10:52\n",
            "tempo gasto assistindo Respire! 0 days 03:16:18\n",
            "tempo gasto assistindo Persuasão 0 days 01:43:47\n"
          ]
        }
      ]
    },
    {
      "cell_type": "markdown",
      "source": [
        "*   Duração total que assistiu à Netflix pelo dias da semana:"
      ],
      "metadata": {
        "id": "rMXzpDOo2WRv"
      }
    },
    {
      "cell_type": "code",
      "source": [
        "pd.options.mode.chained_assignment = None  # default='warn' use this to remove warnings\n",
        "\n",
        "dados1['weekday'] = dados1['Start Time'].dt.weekday #returns 0 to 6\n",
        "dados1['hour'] = dados1['Start Time'].dt.hour # return the hour of the day from 0 23\n",
        "\n",
        "# print(dados1['hour'])\n",
        "\n",
        "monday = dados1[dados1['weekday']==0]['Duration'].sum()\n",
        "tuesday = dados1[dados1['weekday']==1]['Duration'].sum()\n",
        "wednesday = dados1[dados1['weekday']==2]['Duration'].sum()\n",
        "thursday = wednesday = dados1[dados1['weekday']==3]['Duration'].sum()\n",
        "friday = wednesday = dados1[dados1['weekday']==4]['Duration'].sum()\n",
        "saturday = dados1[dados1['weekday']==5]['Duration'].sum()\n",
        "sunday = dados1[dados1['weekday']==6]['Duration'].sum()\n",
        "\n",
        "dayList = [monday,tuesday,wednesday,thursday,friday,saturday,sunday]\n",
        "for i in range(len(dayList)):\n",
        "    dayList[i] = dayList[i].total_seconds()/60/60\n",
        "print(dayList)\n",
        "\n",
        "fig = plt.figure()\n",
        "ax = fig.add_axes([0,0,1,1])\n",
        "days = ['Segunda','Terça','Quarta','Quinta','Sexta','Sabado','Domingo']\n",
        "ax.bar(days,dayList, color=['#EE6A50', '#EE6A50', '#EE6A50', '#EE6A50', '#EE6A50','#EE6A50'])\n",
        "plt.ylabel(\"Horas\")\n",
        "plt.title(\"Tempo gasto assistindo a Netflix por dias da semana\")\n",
        "plt.show()"
      ],
      "metadata": {
        "colab": {
          "base_uri": "https://localhost:8080/",
          "height": 580
        },
        "id": "pokWy4SVz5u1",
        "outputId": "72711a94-42d6-40a5-c004-9c35a8be47f2"
      },
      "execution_count": 16,
      "outputs": [
        {
          "output_type": "stream",
          "name": "stdout",
          "text": [
            "[30.678611111111113, 15.141944444444444, 7.729166666666667, 21.149722222222223, 7.729166666666667, 10.62638888888889, 39.287777777777784]\n"
          ]
        },
        {
          "output_type": "display_data",
          "data": {
            "text/plain": [
              "<Figure size 640x480 with 1 Axes>"
            ],
            "image/png": "[encoded data removed]"
          },
          "metadata": {}
        }
      ]
    },
    {
      "cell_type": "markdown",
      "source": [
        "*   Os vinte títulos mais assistidos:"
      ],
      "metadata": {
        "id": "xk6i43tX2k8v"
      }
    },
    {
      "cell_type": "code",
      "source": [
        "movie_views = dados1.groupby(['Title_clean'])['Duration'].sum().sort_values(ascending = False)\n",
        "print(movie_views.head(20))"
      ],
      "metadata": {
        "colab": {
          "base_uri": "https://localhost:8080/"
        },
        "id": "z0AfTghAz5oe",
        "outputId": "6e382316-bed7-4315-cce8-6e89981eeeaf"
      },
      "execution_count": 17,
      "outputs": [
        {
          "output_type": "stream",
          "name": "stdout",
          "text": [
            "Title_clean\n",
            "Naruto                        0 days 22:46:17\n",
            "Tudo Bem Não Ser Normal       0 days 16:11:18\n",
            "Emily em Paris                0 days 13:59:21\n",
            "Uma Advogada Extraordinária   0 days 13:52:58\n",
            "Sempre Bruxa                  0 days 10:56:44\n",
            "Breaking Bad                  0 days 08:10:52\n",
            "Fadas da Limpeza              0 days 07:44:10\n",
            "O Agente Noturno              0 days 07:25:30\n",
            "Treta                         0 days 05:27:56\n",
            "As Telefonistas               0 days 03:26:12\n",
            "Jane The Virgin               0 days 03:19:53\n",
            "Respire!                      0 days 03:16:18\n",
            "Bee e o Gatiorrinho           0 days 02:19:58\n",
            "Na Direção do Amor            0 days 02:15:54\n",
            "Persuasão                     0 days 01:43:47\n",
            "O Mínimo para Viver           0 days 01:43:13\n",
            "Ofélia                        0 days 01:40:15\n",
            "Royalteen                     0 days 01:36:01\n",
            "Fim do Mundo                  0 days 01:32:52\n",
            "O Poço                        0 days 01:29:56\n",
            "Name: Duration, dtype: timedelta64[ns]\n"
          ]
        }
      ]
    },
    {
      "cell_type": "markdown",
      "source": [
        "*   Ultimos títulos vistos"
      ],
      "metadata": {
        "id": "dOa8Nvnb2tJH"
      }
    },
    {
      "cell_type": "code",
      "source": [
        "movie_views.tail(10)"
      ],
      "metadata": {
        "colab": {
          "base_uri": "https://localhost:8080/"
        },
        "id": "nnWtlgHy0Q8f",
        "outputId": "65c509be-fd38-49aa-c55f-bb4a02ec6113"
      },
      "execution_count": 18,
      "outputs": [
        {
          "output_type": "execute_result",
          "data": {
            "text/plain": [
              "Title_clean\n",
              "The Last Forest -  Upper Bound Clip 1              0 days 00:00:04\n",
              "A Verdadeira História do Roubo do Século (Clipe)   0 days 00:00:04\n",
              "Chickenhare and the Hamster of Darkness - CLM 11   0 days 00:00:04\n",
              "Temporada 3 (Trailer)                              0 days 00:00:04\n",
              "Temporada 4 (Teaser 3)                             0 days 00:00:04\n",
              "Belle                                              0 days 00:00:03\n",
              "As Leis de Lidia Poët                              0 days 00:00:02\n",
              "The Midnight Gospel                                0 days 00:00:02\n",
              "A Mãe                                              0 days 00:00:01\n",
              "The Walking Dead                                   0 days 00:00:01\n",
              "Name: Duration, dtype: timedelta64[ns]"
            ]
          },
          "metadata": {},
          "execution_count": 18
        }
      ]
    },
    {
      "cell_type": "code",
      "source": [
        "fig2 = px.pie(dados1, names='Device Type', \n",
        "             height=400, width=600, \n",
        "             hole=0.7, \n",
        "             title='Por qual meio assistiu',\n",
        "                   color_discrete_sequence=['#4c78a8', '#72b7b2'])\n",
        "fig2"
      ],
      "metadata": {
        "colab": {
          "base_uri": "https://localhost:8080/",
          "height": 417
        },
        "id": "zWxFW-ke_gle",
        "outputId": "f86ff980-ed5c-404a-faa5-10a2af2ad0b2"
      },
      "execution_count": 50,
      "outputs": [
        {
          "output_type": "display_data",
          "data": {
            "text/html": [
              "<html>\n",
              "<head><meta charset=\"utf-8\" /></head>\n",
              "<body>\n",
              "    <div>            <script src=\"https://cdnjs.cloudflare.com/ajax/libs/mathjax/2.7.5/MathJax.js?config=TeX-AMS-MML_SVG\"></script><script type=\"text/javascript\">if (window.MathJax && window.MathJax.Hub && window.MathJax.Hub.Config) {window.MathJax.Hub.Config({SVG: {font: \"STIX-Web\"}});}</script>                <script type=\"text/javascript\">window.PlotlyConfig = {MathJaxConfig: 'local'};</script>\n",
              "        <script src=\"https://cdn.plot.ly/plotly-2.18.2.min.js\"></script>                <div id=\"f269295a-b6fc-4996-a2be-330ad1acd922\" class=\"plotly-graph-div\" style=\"height:400px; width:600px;\"></div>            <script type=\"text/javascript\">                                    window.PLOTLYENV=window.PLOTLYENV || {};                                    if (document.getElementById(\"f269295a-b6fc-4996-a2be-330ad1acd922\")) {                    Plotly.newPlot(                        \"f269295a-b6fc-4996-a2be-330ad1acd922\",                        [{\"domain\":{\"x\":[0.0,1.0],\"y\":[0.0,1.0]},\"hole\":0.7,\"hovertemplate\":\"Device Type=%{label}<extra></extra>\",\"labels\":[\"Amazon Fire TV Stick 2020 + Streaming Stick\",\"Amazon Fire TV Stick 2020 + Streaming Stick\",\"Amazon Fire TV Stick 2020 + Streaming Stick\",\"Amazon Fire TV Stick 2020 + Streaming Stick\",\"Amazon Fire TV Stick 2020 + Streaming Stick\",\"Amazon Fire TV Stick 2020 + Streaming Stick\",\"Amazon Fire TV Stick 2020 + Streaming Stick\",\"Amazon Fire TV Stick 2020 + Streaming Stick\",\"Amazon Fire TV Stick 2020 + Streaming Stick\",\"Amazon Fire TV Stick 2020 + Streaming Stick\",\"Amazon Fire TV Stick 2020 + Streaming Stick\",\"Amazon Fire TV Stick 2020 + Streaming Stick\",\"Amazon Fire TV Stick 2020 + Streaming Stick\",\"Amazon Fire TV Stick 2020 + Streaming Stick\",\"Amazon Fire TV Stick 2020 + Streaming Stick\",\"Amazon Fire TV Stick 2020 + Streaming Stick\",\"Amazon Fire TV Stick 2020 + Streaming Stick\",\"Amazon Fire TV Stick 2020 + Streaming Stick\",\"Amazon Fire TV Stick 2020 + Streaming Stick\",\"Amazon Fire TV Stick 2020 + Streaming Stick\",\"Amazon Fire TV Stick 2020 + Streaming Stick\",\"Amazon Fire TV Stick 2020 + Streaming Stick\",\"Amazon Fire TV Stick 2020 + Streaming Stick\",\"Amazon Fire TV Stick 2020 + Streaming Stick\",\"Amazon Fire TV Stick 2020 + Streaming Stick\",\"Amazon Fire TV Stick 2020 + Streaming Stick\",\"Amazon Fire TV Stick 2020 + Streaming Stick\",\"Amazon Fire TV Stick 2020 + Streaming Stick\",\"Amazon Fire TV Stick 2020 + Streaming Stick\",\"Amazon Fire TV Stick 2020 + Streaming Stick\",\"Amazon Fire TV Stick 2020 + Streaming Stick\",\"Amazon Fire TV Stick 2020 + Streaming Stick\",\"Amazon Fire TV Stick 2020 + Streaming Stick\",\"Amazon Fire TV Stick 2020 + Streaming Stick\",\"Amazon Fire TV Stick 2020 + Streaming Stick\",\"Amazon Fire TV Stick 2020 + Streaming Stick\",\"Amazon Fire TV Stick 2020 + Streaming Stick\",\"Amazon Fire TV Stick 2020 + Streaming Stick\",\"Amazon Fire TV Stick 2020 + Streaming Stick\",\"Amazon Fire TV Stick 2020 + Streaming Stick\",\"Amazon Fire TV Stick 2020 + Streaming Stick\",\"Amazon Fire TV Stick 2020 + Streaming Stick\",\"Amazon Fire TV Stick 2020 + Streaming Stick\",\"Amazon Fire TV Stick 2020 + Streaming Stick\",\"Amazon Fire TV Stick 2020 + Streaming Stick\",\"Amazon Fire TV Stick 2020 + Streaming Stick\",\"Amazon Fire TV Stick 2020 + Streaming Stick\",\"Amazon Fire TV Stick 2020 + Streaming Stick\",\"Amazon Fire TV Stick 2020 + Streaming Stick\",\"Amazon Fire TV Stick 2020 + Streaming Stick\",\"Amazon Fire TV Stick 2020 + Streaming Stick\",\"Amazon Fire TV Stick 2020 + Streaming Stick\",\"Amazon Fire TV Stick 2020 + Streaming Stick\",\"Amazon Fire TV Stick 2020 + Streaming Stick\",\"Amazon Fire TV Stick 2020 + Streaming Stick\",\"Amazon Fire TV Stick 2020 + Streaming Stick\",\"Amazon Fire TV Stick 2020 + Streaming Stick\",\"Amazon Fire TV Stick 2020 + Streaming Stick\",\"Amazon Fire TV Stick 2020 + Streaming Stick\",\"Amazon Fire TV Stick 2020 + Streaming Stick\",\"Amazon Fire TV Stick 2020 + Streaming Stick\",\"Amazon Fire TV Stick 2020 + Streaming Stick\",\"Amazon Fire TV Stick 2020 + Streaming Stick\",\"Amazon Fire TV Stick 2020 + Streaming Stick\",\"Amazon Fire TV Stick 2020 + Streaming Stick\",\"Amazon Fire TV Stick 2020 + Streaming Stick\",\"Amazon Fire TV Stick 2020 + Streaming Stick\",\"Amazon Fire TV Stick 2020 + Streaming Stick\",\"Amazon Fire TV Stick 2020 + Streaming Stick\",\"Amazon Fire TV Stick 2020 + Streaming Stick\",\"Amazon Fire TV Stick 2020 + Streaming Stick\",\"Amazon Fire TV Stick 2020 + Streaming Stick\",\"Amazon Fire TV Stick 2020 + Streaming Stick\",\"Amazon Fire TV Stick 2020 + Streaming Stick\",\"Amazon Fire TV Stick 2020 + Streaming Stick\",\"Amazon Fire TV Stick 2020 + Streaming Stick\",\"Amazon Fire TV Stick 2020 + Streaming Stick\",\"Amazon Fire TV Stick 2020 + Streaming Stick\",\"Amazon Fire TV Stick 2020 + Streaming Stick\",\"Amazon Fire TV Stick 2020 + Streaming Stick\",\"Amazon Fire TV Stick 2020 + Streaming Stick\",\"Amazon Fire TV Stick 2020 + Streaming Stick\",\"Amazon Fire TV Stick 2020 + Streaming Stick\",\"Amazon Fire TV Stick 2020 + Streaming Stick\",\"Amazon Fire TV Stick 2020 + Streaming Stick\",\"Amazon Fire TV Stick 2020 + Streaming Stick\",\"Amazon Fire TV Stick 2020 + Streaming Stick\",\"Amazon Fire TV Stick 2020 + Streaming Stick\",\"Amazon Fire TV Stick 2020 + Streaming Stick\",\"Amazon Fire TV Stick 2020 + Streaming Stick\",\"Amazon Fire TV Stick 2020 + Streaming Stick\",\"Amazon Fire TV Stick 2020 + Streaming Stick\",\"Amazon Fire TV Stick 2020 + Streaming Stick\",\"Amazon Fire TV Stick 2020 + Streaming Stick\",\"Amazon Fire TV Stick 2020 + Streaming Stick\",\"Amazon Fire TV Stick 2020 + Streaming Stick\",\"Amazon Fire TV Stick 2020 + Streaming Stick\",\"Amazon Fire TV Stick 2020 + Streaming Stick\",\"Amazon Fire TV Stick 2020 + Streaming Stick\",\"Amazon Fire TV Stick 2020 + Streaming Stick\",\"Amazon Fire TV Stick 2020 + Streaming Stick\",\"Amazon Fire TV Stick 2020 + Streaming Stick\",\"Amazon Fire TV Stick 2020 + Streaming Stick\",\"Amazon Fire TV Stick 2020 + Streaming Stick\",\"Amazon Fire TV Stick 2020 + Streaming Stick\",\"Amazon Fire TV Stick 2020 + Streaming Stick\",\"Amazon Fire TV Stick 2020 + Streaming Stick\",\"Amazon Fire TV Stick 2020 + Streaming Stick\",\"Amazon Fire TV Stick 2020 + Streaming Stick\",\"Amazon Fire TV Stick 2020 + Streaming Stick\",\"Amazon Fire TV Stick 2020 + Streaming Stick\",\"Amazon Fire TV Stick 2020 + Streaming Stick\",\"Amazon Fire TV Stick 2020 + Streaming Stick\",\"Amazon Fire TV Stick 2020 + Streaming Stick\",\"Amazon Fire TV Stick 2020 + Streaming Stick\",\"Amazon Fire TV Stick 2020 + Streaming Stick\",\"Amazon Fire TV Stick 2020 + Streaming Stick\",\"Amazon Fire TV Stick 2020 + Streaming Stick\",\"Amazon Fire TV Stick 2020 + Streaming Stick\",\"Amazon Fire TV Stick 2020 + Streaming Stick\",\"Amazon Fire TV Stick 2020 + Streaming Stick\",\"Amazon Fire TV Stick 2020 + Streaming Stick\",\"Amazon Fire TV Stick 2020 + Streaming Stick\",\"Amazon Fire TV Stick 2020 + Streaming Stick\",\"Amazon Fire TV Stick 2020 + Streaming Stick\",\"Amazon Fire TV Stick 2020 + Streaming Stick\",\"Amazon Fire TV Stick 2020 + Streaming Stick\",\"Amazon Fire TV Stick 2020 + Streaming Stick\",\"Netflix Windows App - Cadmium Windows Mobile\",\"Netflix Windows App - Cadmium Windows Mobile\",\"Netflix Windows App - Cadmium Windows Mobile\",\"Netflix Windows App - Cadmium Windows Mobile\",\"Chrome PC (Cadmium)\",\"Chrome PC (Cadmium)\",\"Chrome PC (Cadmium)\",\"Chrome PC (Cadmium)\",\"Chrome PC (Cadmium)\",\"Chrome PC (Cadmium)\",\"Chrome PC (Cadmium)\",\"Chrome PC (Cadmium)\",\"Chrome PC (Cadmium)\",\"Chrome PC (Cadmium)\",\"Chrome PC (Cadmium)\",\"Chrome PC (Cadmium)\",\"Chrome PC (Cadmium)\",\"Chrome PC (Cadmium)\",\"Chrome PC (Cadmium)\",\"Chrome PC (Cadmium)\",\"Chrome PC (Cadmium)\",\"Chrome PC (Cadmium)\",\"Chrome PC (Cadmium)\",\"Chrome PC (Cadmium)\",\"Chrome PC (Cadmium)\",\"Chrome PC (Cadmium)\",\"Chrome PC (Cadmium)\",\"Chrome PC (Cadmium)\",\"Chrome PC (Cadmium)\",\"Chrome PC (Cadmium)\",\"Chrome PC (Cadmium)\",\"Chrome PC (Cadmium)\",\"Chrome PC (Cadmium)\",\"Chrome PC (Cadmium)\",\"Chrome PC (Cadmium)\",\"Chrome PC (Cadmium)\",\"Chrome PC (Cadmium)\",\"Chrome PC (Cadmium)\",\"Chrome PC (Cadmium)\",\"Chrome PC (Cadmium)\",\"Chrome PC (Cadmium)\",\"Chrome PC (Cadmium)\",\"Chrome PC (Cadmium)\",\"Chrome PC (Cadmium)\",\"Chrome PC (Cadmium)\",\"Chrome PC (Cadmium)\",\"Chrome PC (Cadmium)\",\"Chrome PC (Cadmium)\",\"Chrome PC (Cadmium)\",\"Chrome PC (Cadmium)\",\"Chrome PC (Cadmium)\",\"Chrome PC (Cadmium)\",\"Chrome PC (Cadmium)\",\"Chrome PC (Cadmium)\",\"Chrome PC (Cadmium)\",\"Chrome PC (Cadmium)\",\"Chrome PC (Cadmium)\",\"Chrome PC (Cadmium)\",\"Chrome PC (Cadmium)\",\"Chrome PC (Cadmium)\",\"Chrome PC (Cadmium)\",\"Chrome PC (Cadmium)\",\"Chrome PC (Cadmium)\",\"Chrome PC (Cadmium)\",\"Chrome PC (Cadmium)\",\"Chrome PC (Cadmium)\",\"Chrome PC (Cadmium)\",\"Chrome PC (Cadmium)\",\"Chrome PC (Cadmium)\",\"Chrome PC (Cadmium)\",\"Chrome PC (Cadmium)\",\"Chrome PC (Cadmium)\",\"Chrome PC (Cadmium)\",\"Chrome PC (Cadmium)\",\"Chrome PC (Cadmium)\",\"Chrome PC (Cadmium)\",\"Chrome PC (Cadmium)\",\"Chrome PC (Cadmium)\",\"Chrome PC (Cadmium)\",\"Chrome PC (Cadmium)\",\"Chrome PC (Cadmium)\",\"Netflix Windows App - Cadmium Windows Mobile\",\"Chrome PC (Cadmium)\",\"Chrome PC (Cadmium)\",\"Chrome PC (Cadmium)\",\"Chrome PC (Cadmium)\",\"Chrome PC (Cadmium)\",\"Chrome PC (Cadmium)\",\"Chrome PC (Cadmium)\",\"Chrome PC (Cadmium)\",\"Chrome PC (Cadmium)\",\"Chrome PC (Cadmium)\",\"Chrome PC (Cadmium)\",\"Chrome PC (Cadmium)\",\"Chrome PC (Cadmium)\",\"Chrome PC (Cadmium)\",\"Chrome PC (Cadmium)\",\"Chrome PC (Cadmium)\",\"Chrome PC (Cadmium)\",\"Chrome PC (Cadmium)\",\"Chrome PC (Cadmium)\",\"Chrome PC (Cadmium)\",\"Chrome PC (Cadmium)\",\"Chrome PC (Cadmium)\",\"Chrome PC (Cadmium)\",\"Chrome PC (Cadmium)\",\"Chrome PC (Cadmium)\",\"Chrome PC (Cadmium)\",\"Chrome PC (Cadmium)\",\"Chrome PC (Cadmium)\",\"Chrome PC (Cadmium)\",\"Chrome PC (Cadmium)\",\"Chrome PC (Cadmium)\",\"Chrome PC (Cadmium)\",\"Chrome PC (Cadmium)\",\"Chrome PC (Cadmium)\",\"Chrome PC (Cadmium)\",\"Chrome PC (Cadmium)\",\"Chrome PC (Cadmium)\",\"Chrome PC (Cadmium)\",\"Chrome PC (Cadmium)\",\"Chrome PC (Cadmium)\",\"Chrome PC (Cadmium)\",\"Chrome PC (Cadmium)\",\"Chrome PC (Cadmium)\",\"Chrome PC (Cadmium)\",\"Chrome PC (Cadmium)\",\"Chrome PC (Cadmium)\",\"Chrome PC (Cadmium)\",\"Chrome PC (Cadmium)\",\"Chrome PC (Cadmium)\",\"Chrome PC (Cadmium)\",\"Chrome PC (Cadmium)\",\"Chrome PC (Cadmium)\",\"Chrome PC (Cadmium)\",\"Chrome PC (Cadmium)\",\"Chrome PC (Cadmium)\",\"Chrome PC (Cadmium)\",\"Chrome PC (Cadmium)\",\"Chrome PC (Cadmium)\",\"Chrome PC (Cadmium)\",\"Chrome PC (Cadmium)\",\"Chrome PC (Cadmium)\",\"Chrome PC (Cadmium)\",\"Chrome PC (Cadmium)\",\"Chrome PC (Cadmium)\",\"Chrome PC (Cadmium)\",\"Chrome PC (Cadmium)\",\"Chrome PC (Cadmium)\",\"Chrome PC (Cadmium)\",\"Chrome PC (Cadmium)\",\"Chrome PC (Cadmium)\",\"Chrome PC (Cadmium)\",\"Chrome PC (Cadmium)\",\"Chrome PC (Cadmium)\",\"Chrome PC (Cadmium)\",\"Chrome PC (Cadmium)\",\"Chrome PC (Cadmium)\",\"Chrome PC (Cadmium)\",\"Chrome PC (Cadmium)\",\"Chrome PC (Cadmium)\",\"Chrome PC (Cadmium)\",\"Chrome PC (Cadmium)\",\"Chrome PC (Cadmium)\",\"Chrome PC (Cadmium)\",\"Chrome PC (Cadmium)\",\"Chrome PC (Cadmium)\",\"Chrome PC (Cadmium)\",\"Chrome PC (Cadmium)\",\"Chrome PC (Cadmium)\",\"Chrome PC (Cadmium)\",\"Chrome PC (Cadmium)\",\"Chrome PC (Cadmium)\",\"Chrome PC (Cadmium)\",\"Chrome PC (Cadmium)\",\"Chrome PC (Cadmium)\",\"Chrome PC (Cadmium)\",\"Chrome PC (Cadmium)\",\"Chrome PC (Cadmium)\",\"Chrome PC (Cadmium)\",\"Chrome PC (Cadmium)\",\"Chrome PC (Cadmium)\",\"Chrome PC (Cadmium)\",\"Chrome PC (Cadmium)\",\"Chrome PC (Cadmium)\",\"Chrome PC (Cadmium)\",\"Chrome PC (Cadmium)\",\"Chrome PC (Cadmium)\",\"Chrome PC (Cadmium)\",\"Chrome PC (Cadmium)\",\"Chrome PC (Cadmium)\",\"Netflix Windows App - Cadmium Windows Mobile\",\"Chrome PC (Cadmium)\",\"Netflix Windows App - Cadmium Windows Mobile\",\"Netflix Windows App - Cadmium Windows Mobile\",\"Chrome PC (Cadmium)\",\"Chrome PC (Cadmium)\",\"Chrome PC (Cadmium)\",\"Chrome PC (Cadmium)\",\"Chrome PC (Cadmium)\",\"Chrome PC (Cadmium)\",\"Chrome PC (Cadmium)\",\"Chrome PC (Cadmium)\",\"Chrome PC (Cadmium)\",\"Chrome PC (Cadmium)\",\"Chrome PC (Cadmium)\",\"Chrome PC (Cadmium)\",\"Chrome PC (Cadmium)\",\"Chrome PC (Cadmium)\",\"Chrome PC (Cadmium)\",\"Chrome PC (Cadmium)\",\"Chrome PC (Cadmium)\",\"Chrome PC (Cadmium)\",\"Chrome PC (Cadmium)\",\"Chrome PC (Cadmium)\",\"Chrome PC (Cadmium)\",\"Chrome PC (Cadmium)\",\"Chrome PC (Cadmium)\",\"Chrome PC (Cadmium)\",\"Chrome PC (Cadmium)\",\"Chrome PC (Cadmium)\",\"Chrome PC (Cadmium)\",\"Chrome PC (Cadmium)\",\"Chrome PC (Cadmium)\",\"Chrome PC (Cadmium)\",\"Chrome PC (Cadmium)\",\"Chrome PC (Cadmium)\",\"Chrome PC (Cadmium)\",\"Chrome PC (Cadmium)\",\"Chrome PC (Cadmium)\",\"Chrome PC (Cadmium)\",\"Chrome PC (Cadmium)\",\"Chrome PC (Cadmium)\",\"Chrome PC (Cadmium)\",\"Chrome PC (Cadmium)\",\"Chrome PC (Cadmium)\",\"Chrome PC (Cadmium)\",\"Chrome PC (Cadmium)\",\"Chrome PC (Cadmium)\",\"Chrome PC (Cadmium)\",\"Chrome PC (Cadmium)\",\"Chrome PC (Cadmium)\",\"Chrome PC (Cadmium)\",\"Chrome PC (Cadmium)\",\"Chrome PC (Cadmium)\",\"Chrome PC (Cadmium)\",\"Chrome PC (Cadmium)\",\"Chrome PC (Cadmium)\",\"Chrome PC (Cadmium)\",\"Chrome PC (Cadmium)\",\"Chrome PC (Cadmium)\",\"Chrome PC (Cadmium)\",\"Chrome PC (Cadmium)\",\"Chrome PC (Cadmium)\",\"Chrome PC (Cadmium)\",\"Chrome PC (Cadmium)\",\"Chrome PC (Cadmium)\",\"Chrome PC (Cadmium)\",\"Chrome PC (Cadmium)\",\"Chrome PC (Cadmium)\",\"Chrome PC (Cadmium)\",\"Chrome PC (Cadmium)\",\"Chrome PC (Cadmium)\",\"Chrome PC (Cadmium)\",\"Chrome PC (Cadmium)\",\"Chrome PC (Cadmium)\",\"Chrome PC (Cadmium)\",\"Chrome PC (Cadmium)\",\"Chrome PC (Cadmium)\",\"Chrome PC (Cadmium)\",\"Chrome PC (Cadmium)\",\"Chrome PC (Cadmium)\",\"Chrome PC (Cadmium)\",\"Chrome PC (Cadmium)\",\"Chrome PC (Cadmium)\",\"Chrome PC (Cadmium)\",\"Chrome PC (Cadmium)\",\"Chrome PC (Cadmium)\",\"Chrome PC (Cadmium)\",\"Chrome PC (Cadmium)\",\"Chrome PC (Cadmium)\",\"Chrome PC (Cadmium)\",\"Chrome PC (Cadmium)\",\"Chrome PC (Cadmium)\",\"Chrome PC (Cadmium)\",\"Chrome PC (Cadmium)\",\"Chrome PC (Cadmium)\",\"Chrome PC (Cadmium)\",\"Chrome PC (Cadmium)\",\"Chrome PC (Cadmium)\",\"Chrome PC (Cadmium)\",\"Chrome PC (Cadmium)\",\"Chrome PC (Cadmium)\",\"Chrome PC (Cadmium)\",\"Chrome PC (Cadmium)\",\"Chrome PC (Cadmium)\",\"Chrome PC (Cadmium)\",\"Chrome PC (Cadmium)\",\"Chrome PC (Cadmium)\",\"Chrome PC (Cadmium)\",\"Chrome PC (Cadmium)\",\"Chrome PC (Cadmium)\",\"Chrome PC (Cadmium)\",\"Chrome PC (Cadmium)\",\"Chrome PC (Cadmium)\",\"Chrome PC (Cadmium)\",\"Chrome PC (Cadmium)\",\"Chrome PC (Cadmium)\",\"Chrome PC (Cadmium)\",\"Chrome PC (Cadmium)\",\"Chrome PC (Cadmium)\",\"Chrome PC (Cadmium)\",\"Chrome PC (Cadmium)\",\"Chrome PC (Cadmium)\",\"Chrome PC (Cadmium)\",\"Chrome PC (Cadmium)\",\"Chrome PC (Cadmium)\",\"Chrome PC (Cadmium)\",\"Chrome PC (Cadmium)\",\"Chrome PC (Cadmium)\",\"Chrome PC (Cadmium)\",\"Chrome PC (Cadmium)\",\"Chrome PC (Cadmium)\",\"Chrome PC (Cadmium)\",\"Chrome PC (Cadmium)\",\"Chrome PC (Cadmium)\",\"Chrome PC (Cadmium)\",\"Chrome PC (Cadmium)\",\"Chrome PC (Cadmium)\",\"Chrome PC (Cadmium)\",\"Chrome PC (Cadmium)\",\"Chrome PC (Cadmium)\",\"Chrome PC (Cadmium)\",\"Chrome PC (Cadmium)\",\"Chrome PC (Cadmium)\",\"Chrome PC (Cadmium)\",\"Chrome PC (Cadmium)\",\"Chrome PC (Cadmium)\",\"Chrome PC (Cadmium)\",\"Chrome PC (Cadmium)\",\"Chrome PC (Cadmium)\",\"Chrome PC (Cadmium)\",\"Chrome PC (Cadmium)\",\"Chrome PC (Cadmium)\",\"Chrome PC (Cadmium)\",\"Chrome PC (Cadmium)\",\"Chrome PC (Cadmium)\",\"Chrome PC (Cadmium)\",\"Chrome PC (Cadmium)\",\"Chrome PC (Cadmium)\",\"Chrome PC (Cadmium)\",\"Chrome PC (Cadmium)\",\"Chrome PC (Cadmium)\",\"Chrome PC (Cadmium)\",\"Chrome PC (Cadmium)\",\"Chrome PC (Cadmium)\",\"Chrome PC (Cadmium)\",\"Chrome PC (Cadmium)\",\"Chrome PC (Cadmium)\",\"Chrome PC (Cadmium)\",\"Chrome PC (Cadmium)\",\"Chrome PC (Cadmium)\",\"Chrome PC (Cadmium)\",\"Chrome PC (Cadmium)\",\"Chrome PC (Cadmium)\",\"Chrome PC (Cadmium)\",\"Chrome PC (Cadmium)\",\"Chrome PC (Cadmium)\",\"Chrome PC (Cadmium)\",\"Chrome PC (Cadmium)\",\"Chrome PC (Cadmium)\",\"Chrome PC (Cadmium)\",\"Chrome PC (Cadmium)\",\"Chrome PC (Cadmium)\",\"Chrome PC (Cadmium)\",\"Chrome PC (Cadmium)\",\"Chrome PC (Cadmium)\",\"Chrome PC (Cadmium)\",\"Chrome PC (Cadmium)\",\"Chrome PC (Cadmium)\",\"Chrome PC (Cadmium)\",\"Chrome PC (Cadmium)\",\"Chrome PC (Cadmium)\",\"Chrome PC (Cadmium)\",\"Chrome PC (Cadmium)\",\"Chrome PC (Cadmium)\",\"Chrome PC (Cadmium)\",\"Chrome PC (Cadmium)\",\"Chrome PC (Cadmium)\",\"Chrome PC (Cadmium)\",\"Chrome PC (Cadmium)\",\"Chrome PC (Cadmium)\",\"Chrome PC (Cadmium)\",\"Chrome PC (Cadmium)\",\"Chrome PC (Cadmium)\",\"Chrome PC (Cadmium)\",\"Chrome PC (Cadmium)\",\"Chrome PC (Cadmium)\",\"Chrome PC (Cadmium)\",\"Chrome PC (Cadmium)\",\"Chrome PC (Cadmium)\",\"Chrome PC (Cadmium)\",\"Chrome PC (Cadmium)\",\"Chrome PC (Cadmium)\",\"Chrome PC (Cadmium)\",\"Chrome PC (Cadmium)\",\"Chrome PC (Cadmium)\",\"Chrome PC (Cadmium)\",\"Chrome PC (Cadmium)\",\"Chrome PC (Cadmium)\",\"Chrome PC (Cadmium)\",\"Chrome PC (Cadmium)\",\"Chrome PC (Cadmium)\",\"Chrome PC (Cadmium)\",\"Chrome PC (Cadmium)\",\"Chrome PC (Cadmium)\",\"Chrome PC (Cadmium)\",\"Chrome PC (Cadmium)\",\"Chrome PC (Cadmium)\",\"Chrome PC (Cadmium)\",\"Chrome PC (Cadmium)\",\"Chrome PC (Cadmium)\",\"Chrome PC (Cadmium)\",\"Chrome PC (Cadmium)\",\"Chrome PC (Cadmium)\",\"Chrome PC (Cadmium)\",\"Chrome PC (Cadmium)\",\"Chrome PC (Cadmium)\",\"Chrome PC (Cadmium)\",\"Chrome PC (Cadmium)\",\"Chrome PC (Cadmium)\",\"Chrome PC (Cadmium)\",\"Chrome PC (Cadmium)\",\"Chrome PC (Cadmium)\",\"Chrome PC (Cadmium)\",\"Chrome PC (Cadmium)\",\"Chrome PC (Cadmium)\",\"Chrome PC (Cadmium)\",\"Chrome PC (Cadmium)\",\"Chrome PC (Cadmium)\",\"Chrome PC (Cadmium)\",\"Chrome PC (Cadmium)\",\"Chrome PC (Cadmium)\",\"Chrome PC (Cadmium)\",\"Chrome PC (Cadmium)\",\"Chrome PC (Cadmium)\",\"Chrome PC (Cadmium)\",\"Chrome PC (Cadmium)\",\"Chrome PC (Cadmium)\",\"Chrome PC (Cadmium)\",\"Chrome PC (Cadmium)\",\"Chrome PC (Cadmium)\",\"Chrome PC (Cadmium)\",\"Chrome PC (Cadmium)\",\"Chrome PC (Cadmium)\",\"Chrome PC (Cadmium)\",\"Chrome PC (Cadmium)\",\"Chrome PC (Cadmium)\",\"Chrome PC (Cadmium)\",\"Chrome PC (Cadmium)\",\"Chrome PC (Cadmium)\",\"Chrome PC (Cadmium)\",\"Chrome PC (Cadmium)\",\"Chrome PC (Cadmium)\",\"Chrome PC (Cadmium)\",\"Chrome PC (Cadmium)\",\"Chrome PC (Cadmium)\",\"Chrome PC (Cadmium)\",\"Chrome PC (Cadmium)\",\"Chrome PC (Cadmium)\",\"Chrome PC (Cadmium)\",\"Chrome PC (Cadmium)\",\"Chrome PC (Cadmium)\",\"Chrome PC (Cadmium)\",\"Chrome PC (Cadmium)\",\"Chrome PC (Cadmium)\",\"Chrome PC (Cadmium)\",\"Chrome PC (Cadmium)\",\"Chrome PC (Cadmium)\",\"Chrome PC (Cadmium)\",\"Chrome PC (Cadmium)\",\"Chrome PC (Cadmium)\",\"Chrome PC (Cadmium)\",\"Chrome PC (Cadmium)\",\"Chrome PC (Cadmium)\",\"Chrome PC (Cadmium)\",\"Chrome PC (Cadmium)\",\"Chrome PC (Cadmium)\",\"Chrome PC (Cadmium)\",\"Chrome PC (Cadmium)\",\"Chrome PC (Cadmium)\",\"Chrome PC (Cadmium)\",\"Chrome PC (Cadmium)\",\"Chrome PC (Cadmium)\",\"Chrome PC (Cadmium)\",\"Chrome PC (Cadmium)\",\"Chrome PC (Cadmium)\",\"Chrome PC (Cadmium)\",\"Chrome PC (Cadmium)\",\"Chrome PC (Cadmium)\",\"Chrome PC (Cadmium)\",\"Chrome PC (Cadmium)\",\"Chrome PC (Cadmium)\",\"Chrome PC (Cadmium)\",\"Chrome PC (Cadmium)\",\"Chrome PC (Cadmium)\",\"Chrome PC (Cadmium)\",\"Chrome PC (Cadmium)\",\"Chrome PC (Cadmium)\",\"Chrome PC (Cadmium)\",\"Chrome PC (Cadmium)\",\"Chrome PC (Cadmium)\",\"Chrome PC (Cadmium)\",\"Chrome PC (Cadmium)\",\"Chrome PC (Cadmium)\",\"Chrome PC (Cadmium)\",\"Chrome PC (Cadmium)\",\"Chrome PC (Cadmium)\",\"Chrome PC (Cadmium)\",\"Chrome PC (Cadmium)\",\"Chrome PC (Cadmium)\",\"Chrome PC (Cadmium)\",\"Chrome PC (Cadmium)\",\"Chrome PC (Cadmium)\",\"Chrome PC (Cadmium)\",\"Chrome PC (Cadmium)\",\"Chrome PC (Cadmium)\",\"Chrome PC (Cadmium)\",\"Chrome PC (Cadmium)\",\"Chrome PC (Cadmium)\",\"Chrome PC (Cadmium)\",\"Chrome PC (Cadmium)\",\"Chrome PC (Cadmium)\",\"Chrome PC (Cadmium)\",\"Chrome PC (Cadmium)\",\"Chrome PC (Cadmium)\",\"Chrome PC (Cadmium)\",\"Chrome PC (Cadmium)\",\"Chrome PC (Cadmium)\",\"Chrome PC (Cadmium)\",\"Chrome PC (Cadmium)\",\"Chrome PC (Cadmium)\",\"Chrome PC (Cadmium)\",\"Chrome PC (Cadmium)\",\"Chrome PC (Cadmium)\",\"Chrome PC (Cadmium)\",\"Chrome PC (Cadmium)\",\"Chrome PC (Cadmium)\",\"Chrome PC (Cadmium)\",\"Chrome PC (Cadmium)\",\"Chrome PC (Cadmium)\",\"Chrome PC (Cadmium)\",\"Chrome PC (Cadmium)\",\"Chrome PC (Cadmium)\",\"Chrome PC (Cadmium)\",\"Chrome PC (Cadmium)\",\"Chrome PC (Cadmium)\",\"Chrome PC (Cadmium)\",\"Chrome PC (Cadmium)\",\"Chrome PC (Cadmium)\",\"Chrome PC (Cadmium)\",\"Chrome PC (Cadmium)\",\"Chrome PC (Cadmium)\",\"Chrome PC (Cadmium)\",\"Chrome PC (Cadmium)\",\"Chrome PC (Cadmium)\",\"Chrome PC (Cadmium)\",\"Chrome PC (Cadmium)\",\"Chrome PC (Cadmium)\",\"Chrome PC (Cadmium)\",\"Chrome PC (Cadmium)\",\"Chrome PC (Cadmium)\",\"Chrome PC (Cadmium)\"],\"legendgroup\":\"\",\"name\":\"\",\"showlegend\":true,\"type\":\"pie\"}],                        {\"template\":{\"data\":{\"histogram2dcontour\":[{\"type\":\"histogram2dcontour\",\"colorbar\":{\"outlinewidth\":0,\"ticks\":\"\"},\"colorscale\":[[0.0,\"#0d0887\"],[0.1111111111111111,\"#46039f\"],[0.2222222222222222,\"#7201a8\"],[0.3333333333333333,\"#9c179e\"],[0.4444444444444444,\"#bd3786\"],[0.5555555555555556,\"#d8576b\"],[0.6666666666666666,\"#ed7953\"],[0.7777777777777778,\"#fb9f3a\"],[0.8888888888888888,\"#fdca26\"],[1.0,\"#f0f921\"]]}],\"choropleth\":[{\"type\":\"choropleth\",\"colorbar\":{\"outlinewidth\":0,\"ticks\":\"\"}}],\"histogram2d\":[{\"type\":\"histogram2d\",\"colorbar\":{\"outlinewidth\":0,\"ticks\":\"\"},\"colorscale\":[[0.0,\"#0d0887\"],[0.1111111111111111,\"#46039f\"],[0.2222222222222222,\"#7201a8\"],[0.3333333333333333,\"#9c179e\"],[0.4444444444444444,\"#bd3786\"],[0.5555555555555556,\"#d8576b\"],[0.6666666666666666,\"#ed7953\"],[0.7777777777777778,\"#fb9f3a\"],[0.8888888888888888,\"#fdca26\"],[1.0,\"#f0f921\"]]}],\"heatmap\":[{\"type\":\"heatmap\",\"colorbar\":{\"outlinewidth\":0,\"ticks\":\"\"},\"colorscale\":[[0.0,\"#0d0887\"],[0.1111111111111111,\"#46039f\"],[0.2222222222222222,\"#7201a8\"],[0.3333333333333333,\"#9c179e\"],[0.4444444444444444,\"#bd3786\"],[0.5555555555555556,\"#d8576b\"],[0.6666666666666666,\"#ed7953\"],[0.7777777777777778,\"#fb9f3a\"],[0.8888888888888888,\"#fdca26\"],[1.0,\"#f0f921\"]]}],\"heatmapgl\":[{\"type\":\"heatmapgl\",\"colorbar\":{\"outlinewidth\":0,\"ticks\":\"\"},\"colorscale\":[[0.0,\"#0d0887\"],[0.1111111111111111,\"#46039f\"],[0.2222222222222222,\"#7201a8\"],[0.3333333333333333,\"#9c179e\"],[0.4444444444444444,\"#bd3786\"],[0.5555555555555556,\"#d8576b\"],[0.6666666666666666,\"#ed7953\"],[0.7777777777777778,\"#fb9f3a\"],[0.8888888888888888,\"#fdca26\"],[1.0,\"#f0f921\"]]}],\"contourcarpet\":[{\"type\":\"contourcarpet\",\"colorbar\":{\"outlinewidth\":0,\"ticks\":\"\"}}],\"contour\":[{\"type\":\"contour\",\"colorbar\":{\"outlinewidth\":0,\"ticks\":\"\"},\"colorscale\":[[0.0,\"#0d0887\"],[0.1111111111111111,\"#46039f\"],[0.2222222222222222,\"#7201a8\"],[0.3333333333333333,\"#9c179e\"],[0.4444444444444444,\"#bd3786\"],[0.5555555555555556,\"#d8576b\"],[0.6666666666666666,\"#ed7953\"],[0.7777777777777778,\"#fb9f3a\"],[0.8888888888888888,\"#fdca26\"],[1.0,\"#f0f921\"]]}],\"surface\":[{\"type\":\"surface\",\"colorbar\":{\"outlinewidth\":0,\"ticks\":\"\"},\"colorscale\":[[0.0,\"#0d0887\"],[0.1111111111111111,\"#46039f\"],[0.2222222222222222,\"#7201a8\"],[0.3333333333333333,\"#9c179e\"],[0.4444444444444444,\"#bd3786\"],[0.5555555555555556,\"#d8576b\"],[0.6666666666666666,\"#ed7953\"],[0.7777777777777778,\"#fb9f3a\"],[0.8888888888888888,\"#fdca26\"],[1.0,\"#f0f921\"]]}],\"mesh3d\":[{\"type\":\"mesh3d\",\"colorbar\":{\"outlinewidth\":0,\"ticks\":\"\"}}],\"scatter\":[{\"fillpattern\":{\"fillmode\":\"overlay\",\"size\":10,\"solidity\":0.2},\"type\":\"scatter\"}],\"parcoords\":[{\"type\":\"parcoords\",\"line\":{\"colorbar\":{\"outlinewidth\":0,\"ticks\":\"\"}}}],\"scatterpolargl\":[{\"type\":\"scatterpolargl\",\"marker\":{\"colorbar\":{\"outlinewidth\":0,\"ticks\":\"\"}}}],\"bar\":[{\"error_x\":{\"color\":\"#2a3f5f\"},\"error_y\":{\"color\":\"#2a3f5f\"},\"marker\":{\"line\":{\"color\":\"#E5ECF6\",\"width\":0.5},\"pattern\":{\"fillmode\":\"overlay\",\"size\":10,\"solidity\":0.2}},\"type\":\"bar\"}],\"scattergeo\":[{\"type\":\"scattergeo\",\"marker\":{\"colorbar\":{\"outlinewidth\":0,\"ticks\":\"\"}}}],\"scatterpolar\":[{\"type\":\"scatterpolar\",\"marker\":{\"colorbar\":{\"outlinewidth\":0,\"ticks\":\"\"}}}],\"histogram\":[{\"marker\":{\"pattern\":{\"fillmode\":\"overlay\",\"size\":10,\"solidity\":0.2}},\"type\":\"histogram\"}],\"scattergl\":[{\"type\":\"scattergl\",\"marker\":{\"colorbar\":{\"outlinewidth\":0,\"ticks\":\"\"}}}],\"scatter3d\":[{\"type\":\"scatter3d\",\"line\":{\"colorbar\":{\"outlinewidth\":0,\"ticks\":\"\"}},\"marker\":{\"colorbar\":{\"outlinewidth\":0,\"ticks\":\"\"}}}],\"scattermapbox\":[{\"type\":\"scattermapbox\",\"marker\":{\"colorbar\":{\"outlinewidth\":0,\"ticks\":\"\"}}}],\"scatterternary\":[{\"type\":\"scatterternary\",\"marker\":{\"colorbar\":{\"outlinewidth\":0,\"ticks\":\"\"}}}],\"scattercarpet\":[{\"type\":\"scattercarpet\",\"marker\":{\"colorbar\":{\"outlinewidth\":0,\"ticks\":\"\"}}}],\"carpet\":[{\"aaxis\":{\"endlinecolor\":\"#2a3f5f\",\"gridcolor\":\"white\",\"linecolor\":\"white\",\"minorgridcolor\":\"white\",\"startlinecolor\":\"#2a3f5f\"},\"baxis\":{\"endlinecolor\":\"#2a3f5f\",\"gridcolor\":\"white\",\"linecolor\":\"white\",\"minorgridcolor\":\"white\",\"startlinecolor\":\"#2a3f5f\"},\"type\":\"carpet\"}],\"table\":[{\"cells\":{\"fill\":{\"color\":\"#EBF0F8\"},\"line\":{\"color\":\"white\"}},\"header\":{\"fill\":{\"color\":\"#C8D4E3\"},\"line\":{\"color\":\"white\"}},\"type\":\"table\"}],\"barpolar\":[{\"marker\":{\"line\":{\"color\":\"#E5ECF6\",\"width\":0.5},\"pattern\":{\"fillmode\":\"overlay\",\"size\":10,\"solidity\":0.2}},\"type\":\"barpolar\"}],\"pie\":[{\"automargin\":true,\"type\":\"pie\"}]},\"layout\":{\"autotypenumbers\":\"strict\",\"colorway\":[\"#636efa\",\"#EF553B\",\"#00cc96\",\"#ab63fa\",\"#FFA15A\",\"#19d3f3\",\"#FF6692\",\"#B6E880\",\"#FF97FF\",\"#FECB52\"],\"font\":{\"color\":\"#2a3f5f\"},\"hovermode\":\"closest\",\"hoverlabel\":{\"align\":\"left\"},\"paper_bgcolor\":\"white\",\"plot_bgcolor\":\"#E5ECF6\",\"polar\":{\"bgcolor\":\"#E5ECF6\",\"angularaxis\":{\"gridcolor\":\"white\",\"linecolor\":\"white\",\"ticks\":\"\"},\"radialaxis\":{\"gridcolor\":\"white\",\"linecolor\":\"white\",\"ticks\":\"\"}},\"ternary\":{\"bgcolor\":\"#E5ECF6\",\"aaxis\":{\"gridcolor\":\"white\",\"linecolor\":\"white\",\"ticks\":\"\"},\"baxis\":{\"gridcolor\":\"white\",\"linecolor\":\"white\",\"ticks\":\"\"},\"caxis\":{\"gridcolor\":\"white\",\"linecolor\":\"white\",\"ticks\":\"\"}},\"coloraxis\":{\"colorbar\":{\"outlinewidth\":0,\"ticks\":\"\"}},\"colorscale\":{\"sequential\":[[0.0,\"#0d0887\"],[0.1111111111111111,\"#46039f\"],[0.2222222222222222,\"#7201a8\"],[0.3333333333333333,\"#9c179e\"],[0.4444444444444444,\"#bd3786\"],[0.5555555555555556,\"#d8576b\"],[0.6666666666666666,\"#ed7953\"],[0.7777777777777778,\"#fb9f3a\"],[0.8888888888888888,\"#fdca26\"],[1.0,\"#f0f921\"]],\"sequentialminus\":[[0.0,\"#0d0887\"],[0.1111111111111111,\"#46039f\"],[0.2222222222222222,\"#7201a8\"],[0.3333333333333333,\"#9c179e\"],[0.4444444444444444,\"#bd3786\"],[0.5555555555555556,\"#d8576b\"],[0.6666666666666666,\"#ed7953\"],[0.7777777777777778,\"#fb9f3a\"],[0.8888888888888888,\"#fdca26\"],[1.0,\"#f0f921\"]],\"diverging\":[[0,\"#8e0152\"],[0.1,\"#c51b7d\"],[0.2,\"#de77ae\"],[0.3,\"#f1b6da\"],[0.4,\"#fde0ef\"],[0.5,\"#f7f7f7\"],[0.6,\"#e6f5d0\"],[0.7,\"#b8e186\"],[0.8,\"#7fbc41\"],[0.9,\"#4d9221\"],[1,\"#276419\"]]},\"xaxis\":{\"gridcolor\":\"white\",\"linecolor\":\"white\",\"ticks\":\"\",\"title\":{\"standoff\":15},\"zerolinecolor\":\"white\",\"automargin\":true,\"zerolinewidth\":2},\"yaxis\":{\"gridcolor\":\"white\",\"linecolor\":\"white\",\"ticks\":\"\",\"title\":{\"standoff\":15},\"zerolinecolor\":\"white\",\"automargin\":true,\"zerolinewidth\":2},\"scene\":{\"xaxis\":{\"backgroundcolor\":\"#E5ECF6\",\"gridcolor\":\"white\",\"linecolor\":\"white\",\"showbackground\":true,\"ticks\":\"\",\"zerolinecolor\":\"white\",\"gridwidth\":2},\"yaxis\":{\"backgroundcolor\":\"#E5ECF6\",\"gridcolor\":\"white\",\"linecolor\":\"white\",\"showbackground\":true,\"ticks\":\"\",\"zerolinecolor\":\"white\",\"gridwidth\":2},\"zaxis\":{\"backgroundcolor\":\"#E5ECF6\",\"gridcolor\":\"white\",\"linecolor\":\"white\",\"showbackground\":true,\"ticks\":\"\",\"zerolinecolor\":\"white\",\"gridwidth\":2}},\"shapedefaults\":{\"line\":{\"color\":\"#2a3f5f\"}},\"annotationdefaults\":{\"arrowcolor\":\"#2a3f5f\",\"arrowhead\":0,\"arrowwidth\":1},\"geo\":{\"bgcolor\":\"white\",\"landcolor\":\"#E5ECF6\",\"subunitcolor\":\"white\",\"showland\":true,\"showlakes\":true,\"lakecolor\":\"white\"},\"title\":{\"x\":0.05},\"mapbox\":{\"style\":\"light\"}}},\"legend\":{\"tracegroupgap\":0},\"title\":{\"text\":\"Por qual meio assistiu\"},\"piecolorway\":[\"#4c78a8\",\"#72b7b2\"],\"height\":400,\"width\":600},                        {\"responsive\": true}                    ).then(function(){\n",
              "                            \n",
              "var gd = document.getElementById('f269295a-b6fc-4996-a2be-330ad1acd922');\n",
              "var x = new MutationObserver(function (mutations, observer) {{\n",
              "        var display = window.getComputedStyle(gd).display;\n",
              "        if (!display || display === 'none') {{\n",
              "            console.log([gd, 'removed!']);\n",
              "            Plotly.purge(gd);\n",
              "            observer.disconnect();\n",
              "        }}\n",
              "}});\n",
              "\n",
              "// Listen for the removal of the full notebook cells\n",
              "var notebookContainer = gd.closest('#notebook-container');\n",
              "if (notebookContainer) {{\n",
              "    x.observe(notebookContainer, {childList: true});\n",
              "}}\n",
              "\n",
              "// Listen for the clearing of the current output cell\n",
              "var outputEl = gd.closest('.output');\n",
              "if (outputEl) {{\n",
              "    x.observe(outputEl, {childList: true});\n",
              "}}\n",
              "\n",
              "                        })                };                            </script>        </div>\n",
              "</body>\n",
              "</html>"
            ]
          },
          "metadata": {}
        }
      ]
    }
  ]
}